{
 "cells": [
  {
   "cell_type": "markdown",
   "metadata": {},
   "source": [
    "# Lecture 2019-09-18"
   ]
  },
  {
   "cell_type": "markdown",
   "metadata": {},
   "source": [
    "## Python 101 Chapters\n",
    "\n",
    "Chapters 2-10 in \"Python 101\", Michael Driscoll"
   ]
  },
  {
   "cell_type": "markdown",
   "metadata": {},
   "source": [
    "## Review of homework "
   ]
  },
  {
   "cell_type": "code",
   "execution_count": 1,
   "metadata": {},
   "outputs": [],
   "source": [
    "# Set 1. Problem 7\n",
    "# Counting backwards\n",
    "\n",
    "def count_back():\n",
    "    x = 100\n",
    "    while x >= 0:\n",
    "        print(x, end=', ')\n",
    "        x -= 5"
   ]
  },
  {
   "cell_type": "code",
   "execution_count": 2,
   "metadata": {},
   "outputs": [
    {
     "name": "stdout",
     "output_type": "stream",
     "text": [
      "100, 95, 90, 85, 80, 75, 70, 65, 60, 55, 50, 45, 40, 35, 30, 25, 20, 15, 10, 5, 0, "
     ]
    }
   ],
   "source": [
    "count_back()"
   ]
  },
  {
   "cell_type": "code",
   "execution_count": 3,
   "metadata": {},
   "outputs": [
    {
     "name": "stdout",
     "output_type": "stream",
     "text": [
      "100, 95, 90, 85, 80, 75, 70, 65, 60, 55, 50, 45, 40, 35, 30, 25, 20, 15, 10, 5, 0, "
     ]
    }
   ],
   "source": [
    "for i in range(100, -5, -5):\n",
    "    print(i, end=', ')"
   ]
  },
  {
   "cell_type": "code",
   "execution_count": 4,
   "metadata": {},
   "outputs": [
    {
     "data": {
      "text/plain": [
       "[100,\n",
       " 95,\n",
       " 90,\n",
       " 85,\n",
       " 80,\n",
       " 75,\n",
       " 70,\n",
       " 65,\n",
       " 60,\n",
       " 55,\n",
       " 50,\n",
       " 45,\n",
       " 40,\n",
       " 35,\n",
       " 30,\n",
       " 25,\n",
       " 20,\n",
       " 15,\n",
       " 10,\n",
       " 5,\n",
       " 0]"
      ]
     },
     "execution_count": 4,
     "metadata": {},
     "output_type": "execute_result"
    }
   ],
   "source": [
    "a = list(range(100, -5, -5))\n",
    "a"
   ]
  },
  {
   "cell_type": "code",
   "execution_count": 5,
   "metadata": {},
   "outputs": [],
   "source": [
    "def rock_paper_scissors(s1, s2):\n",
    "    if s1 == s2:\n",
    "        return 0\n",
    "    if (s1 == 'rock' and s2 == 'scissors' or \n",
    "        s1 == 'scissors' and s2 == 'paper' or \n",
    "        s1 == 'paper' and s2 == 'rock'):\n",
    "        return 1\n",
    "    return -1 \n",
    "\n",
    "assert rock_paper_scissors('rock', 'paper') == -1\n",
    "assert rock_paper_scissors('scissors', 'paper') == 1\n",
    "assert rock_paper_scissors('paper', 'paper') == 0"
   ]
  },
  {
   "cell_type": "code",
   "execution_count": 6,
   "metadata": {},
   "outputs": [],
   "source": [
    "def rock_paper_scissors(s1, s2):\n",
    "    if s1 == s2:\n",
    "        return 0\n",
    "    if ((s1, s2) == ('rock', 'scissors') or \n",
    "        (s1, s2) == ('scissors', 'paper') or \n",
    "        (s1, s2) == ('paper', 'rock')):\n",
    "        return 1\n",
    "    return -1 \n",
    "\n",
    "assert rock_paper_scissors('rock', 'paper') == -1\n",
    "assert rock_paper_scissors('scissors', 'paper') == 1\n",
    "assert rock_paper_scissors('paper', 'paper') == 0"
   ]
  },
  {
   "cell_type": "markdown",
   "metadata": {},
   "source": [
    "### The `in` operator"
   ]
  },
  {
   "cell_type": "code",
   "execution_count": 7,
   "metadata": {},
   "outputs": [
    {
     "data": {
      "text/plain": [
       "True"
      ]
     },
     "execution_count": 7,
     "metadata": {},
     "output_type": "execute_result"
    }
   ],
   "source": [
    "1 in (1, 2, 3, 4)"
   ]
  },
  {
   "cell_type": "code",
   "execution_count": 8,
   "metadata": {},
   "outputs": [
    {
     "data": {
      "text/plain": [
       "False"
      ]
     },
     "execution_count": 8,
     "metadata": {},
     "output_type": "execute_result"
    }
   ],
   "source": [
    "'monkey' in (1, 2, 3, 4)"
   ]
  },
  {
   "cell_type": "code",
   "execution_count": 9,
   "metadata": {},
   "outputs": [
    {
     "data": {
      "text/plain": [
       "False"
      ]
     },
     "execution_count": 9,
     "metadata": {},
     "output_type": "execute_result"
    }
   ],
   "source": [
    "'i' in 'team'"
   ]
  },
  {
   "cell_type": "code",
   "execution_count": 10,
   "metadata": {},
   "outputs": [],
   "source": [
    "def rock_paper_scissors(s1, s2):\n",
    "    if s1 == s2:\n",
    "        return 0\n",
    "    if (s1, s2) in (('rock', 'scissors'), ('scissors', 'paper'), ('paper', 'rock')):\n",
    "        return 1\n",
    "    return -1 \n",
    "\n",
    "assert rock_paper_scissors('rock', 'paper') == -1\n",
    "assert rock_paper_scissors('scissors', 'paper') == 1\n",
    "assert rock_paper_scissors('paper', 'paper') == 0"
   ]
  },
  {
   "cell_type": "markdown",
   "metadata": {},
   "source": [
    "### Assignment 1. Problem 11\n",
    "Define the function second_biggest(array) that returns the second biggest number of the list of numbers array:\n",
    "\n",
    "```python\n",
    "assert second_biggest([93, 30, 39, 37, 78, 11, 7, 67, 63, 50, 92]) == 92\n",
    "assert second_biggest([-1, -2, -3, -4, -5]) == -2\n",
    "```"
   ]
  },
  {
   "cell_type": "code",
   "execution_count": 11,
   "metadata": {},
   "outputs": [],
   "source": [
    "def second_biggest(array):  # thanks Kristen\n",
    "    array.sort(reverse=True)\n",
    "    return array[1]\n",
    "\n",
    "a = [93, 30, 39, 37, 78, 11, 7, 67, 63, 50, 92]\n",
    "assert second_biggest(a) == 92\n",
    "assert second_biggest([-1, -2, -3, -4, -5]) == -2"
   ]
  },
  {
   "cell_type": "code",
   "execution_count": 12,
   "metadata": {},
   "outputs": [],
   "source": [
    "def second_biggest(array):\n",
    "    array = sorted(array, reverse=True)\n",
    "    return array[1]\n",
    "\n",
    "assert second_biggest((93, 30, 39, 37, 78, 11, 7, 67, 63, 50, 92)) == 92\n",
    "assert second_biggest([-1, -2, -3, -4, -5]) == -2"
   ]
  },
  {
   "cell_type": "markdown",
   "metadata": {},
   "source": [
    "### Assignment 1: Problem 13\n",
    "\n",
    "Define the function longest that returns the longest string from a sequence of strings. If two strings have the same length, then only the first one should be consdered.\n",
    "```python\n",
    "assert longest(['one', 'two', 'three', 'four', 'five', 'six']) == 'three'\n",
    "```"
   ]
  },
  {
   "cell_type": "code",
   "execution_count": 13,
   "metadata": {},
   "outputs": [],
   "source": [
    "def longest(array):\n",
    "    return max(array, key=len)\n",
    "\n",
    "assert longest(['one', 'two', 'three', 'four', 'five', 'six']) == 'three'"
   ]
  },
  {
   "cell_type": "code",
   "execution_count": 14,
   "metadata": {},
   "outputs": [
    {
     "data": {
      "text/plain": [
       "1"
      ]
     },
     "execution_count": 14,
     "metadata": {},
     "output_type": "execute_result"
    }
   ],
   "source": [
    "def fun(n):\n",
    "    return n % 3\n",
    "\n",
    "max([0, 1, 1, 3, 7], key=fun)"
   ]
  },
  {
   "cell_type": "code",
   "execution_count": 15,
   "metadata": {},
   "outputs": [
    {
     "data": {
      "text/plain": [
       "['one', 'two', 'six', 'four', 'five', 'three']"
      ]
     },
     "execution_count": 15,
     "metadata": {},
     "output_type": "execute_result"
    }
   ],
   "source": [
    "# key is the function to call for each element, yielding the number by which to sort\n",
    "sorted(['one', 'two', 'three', 'four', 'five', 'six'], key=len)"
   ]
  },
  {
   "cell_type": "markdown",
   "metadata": {},
   "source": [
    "### Assignment 1. \n",
    "Problem 12. Define the function middle(a, b, c), which returns the middle value of its three numerical inputs, i.e. the number that neither larger nor smaller than any of the other two\n",
    "\n",
    "```python\n",
    "assert middle(1, 2, 3) == 2\n",
    "assert middle(-1, 3, -1) == -1\n",
    "assert middle(0, -3, 7) == 0\n",
    "assert middle(-3, -3, 4) == -3\n",
    "```"
   ]
  },
  {
   "cell_type": "code",
   "execution_count": 16,
   "metadata": {},
   "outputs": [],
   "source": [
    "def middle(a, b, c):\n",
    "    return sorted([a, b, c])[1]\n",
    "\n",
    "assert middle(1, 2, 3) == 2\n",
    "assert middle(-1, 3, -1) == -1\n",
    "assert middle(0, -3, 7) == 0\n",
    "assert middle(-3, -3, 4) == -3"
   ]
  },
  {
   "cell_type": "code",
   "execution_count": 17,
   "metadata": {},
   "outputs": [
    {
     "name": "stdout",
     "output_type": "stream",
     "text": [
      "yes\n",
      "yes\n",
      "no\n"
     ]
    }
   ],
   "source": [
    "a = 0\n",
    "\n",
    "if -1 <= a <= 0:\n",
    "    print('yes')\n",
    "    \n",
    "# equivalent\n",
    "if (-1 <= a) and (a <= 0):\n",
    "    print('yes')\n",
    "    \n",
    "# other languages\n",
    "# equivalent\n",
    "if (-1 <= a) <= 0:\n",
    "    print('yes')\n",
    "else:\n",
    "    print('no')"
   ]
  },
  {
   "cell_type": "markdown",
   "metadata": {},
   "source": [
    "## PEP 8\n",
    "Familiarize yourselves with Python coding style: https://www.python.org/dev/peps/pep-0008/"
   ]
  },
  {
   "cell_type": "markdown",
   "metadata": {},
   "source": [
    "## New data type `set`"
   ]
  },
  {
   "cell_type": "code",
   "execution_count": 18,
   "metadata": {},
   "outputs": [
    {
     "name": "stdout",
     "output_type": "stream",
     "text": [
      "a\n",
      "b\n",
      "c\n",
      "1\n"
     ]
    }
   ],
   "source": [
    "a = (1, None, 3)\n",
    "b = [2, 3, 'elephant']\n",
    "c = 'I love Python'\n",
    "\n",
    "d = {'a': 1, 'b': 3, 'c': None, 1: 'aha!', 'a': 3}\n",
    "for i in d:\n",
    "    print(i)"
   ]
  },
  {
   "cell_type": "markdown",
   "metadata": {},
   "source": [
    "Dictionary are sets of key-value pairs. They allow fast searches given the key."
   ]
  },
  {
   "cell_type": "code",
   "execution_count": 19,
   "metadata": {},
   "outputs": [],
   "source": [
    "d[(1, 2)] = 'This is a tuple'"
   ]
  },
  {
   "cell_type": "code",
   "execution_count": 20,
   "metadata": {},
   "outputs": [
    {
     "ename": "TypeError",
     "evalue": "unhashable type: 'list'",
     "output_type": "error",
     "traceback": [
      "\u001b[0;31m---------------------------------------------------------------------------\u001b[0m",
      "\u001b[0;31mTypeError\u001b[0m                                 Traceback (most recent call last)",
      "\u001b[0;32m<ipython-input-20-f968c477f500>\u001b[0m in \u001b[0;36m<module>\u001b[0;34m\u001b[0m\n\u001b[0;32m----> 1\u001b[0;31m \u001b[0md\u001b[0m\u001b[0;34m[\u001b[0m\u001b[0;34m[\u001b[0m\u001b[0;36m3\u001b[0m\u001b[0;34m,\u001b[0m \u001b[0;36m4\u001b[0m\u001b[0;34m]\u001b[0m\u001b[0;34m]\u001b[0m \u001b[0;34m=\u001b[0m \u001b[0;34m'This is not allowed'\u001b[0m  \u001b[0;31m# cannot use mutable objects as keys\u001b[0m\u001b[0;34m\u001b[0m\u001b[0;34m\u001b[0m\u001b[0m\n\u001b[0m",
      "\u001b[0;31mTypeError\u001b[0m: unhashable type: 'list'"
     ]
    }
   ],
   "source": [
    "d[[3, 4]] = 'This is not allowed'  # cannot use mutable objects as keys"
   ]
  },
  {
   "cell_type": "markdown",
   "metadata": {},
   "source": [
    "### Sets are like dictionaries but they only have keys, no values"
   ]
  },
  {
   "cell_type": "code",
   "execution_count": 21,
   "metadata": {},
   "outputs": [],
   "source": [
    "a = {1, 2, 3, 4}"
   ]
  },
  {
   "cell_type": "code",
   "execution_count": 22,
   "metadata": {},
   "outputs": [],
   "source": [
    "a.add(7)"
   ]
  },
  {
   "cell_type": "code",
   "execution_count": 23,
   "metadata": {},
   "outputs": [
    {
     "data": {
      "text/plain": [
       "{1, 2, 3, 4, 7}"
      ]
     },
     "execution_count": 23,
     "metadata": {},
     "output_type": "execute_result"
    }
   ],
   "source": [
    "a"
   ]
  },
  {
   "cell_type": "code",
   "execution_count": 24,
   "metadata": {},
   "outputs": [],
   "source": [
    "a.add('cat')"
   ]
  },
  {
   "cell_type": "code",
   "execution_count": 25,
   "metadata": {},
   "outputs": [
    {
     "data": {
      "text/plain": [
       "{1, 2, 3, 4, 7, 'cat'}"
      ]
     },
     "execution_count": 25,
     "metadata": {},
     "output_type": "execute_result"
    }
   ],
   "source": [
    "a"
   ]
  },
  {
   "cell_type": "code",
   "execution_count": 26,
   "metadata": {},
   "outputs": [
    {
     "ename": "TypeError",
     "evalue": "unhashable type: 'list'",
     "output_type": "error",
     "traceback": [
      "\u001b[0;31m---------------------------------------------------------------------------\u001b[0m",
      "\u001b[0;31mTypeError\u001b[0m                                 Traceback (most recent call last)",
      "\u001b[0;32m<ipython-input-26-560393065a12>\u001b[0m in \u001b[0;36m<module>\u001b[0;34m\u001b[0m\n\u001b[0;32m----> 1\u001b[0;31m \u001b[0ma\u001b[0m\u001b[0;34m.\u001b[0m\u001b[0madd\u001b[0m\u001b[0;34m(\u001b[0m\u001b[0;34m[\u001b[0m\u001b[0;36m1\u001b[0m\u001b[0;34m,\u001b[0m \u001b[0;36m2\u001b[0m\u001b[0;34m,\u001b[0m \u001b[0;36m3\u001b[0m\u001b[0;34m]\u001b[0m\u001b[0;34m)\u001b[0m  \u001b[0;31m# cannot add a mutable object\u001b[0m\u001b[0;34m\u001b[0m\u001b[0;34m\u001b[0m\u001b[0m\n\u001b[0m",
      "\u001b[0;31mTypeError\u001b[0m: unhashable type: 'list'"
     ]
    }
   ],
   "source": [
    "a.add([1, 2, 3])  # cannot add a mutable object"
   ]
  },
  {
   "cell_type": "code",
   "execution_count": 27,
   "metadata": {},
   "outputs": [],
   "source": [
    "a.add('cat')"
   ]
  },
  {
   "cell_type": "code",
   "execution_count": 28,
   "metadata": {},
   "outputs": [
    {
     "data": {
      "text/plain": [
       "{1, 2, 3, 4, 7, 'cat'}"
      ]
     },
     "execution_count": 28,
     "metadata": {},
     "output_type": "execute_result"
    }
   ],
   "source": [
    "a"
   ]
  },
  {
   "cell_type": "code",
   "execution_count": 29,
   "metadata": {},
   "outputs": [
    {
     "data": {
      "text/plain": [
       "True"
      ]
     },
     "execution_count": 29,
     "metadata": {},
     "output_type": "execute_result"
    }
   ],
   "source": [
    "a == {1, 2, 3, 4, 7, 'cat'}"
   ]
  },
  {
   "cell_type": "code",
   "execution_count": 30,
   "metadata": {},
   "outputs": [
    {
     "data": {
      "text/plain": [
       "False"
      ]
     },
     "execution_count": 30,
     "metadata": {},
     "output_type": "execute_result"
    }
   ],
   "source": [
    "a == {1, 2, 3, 4, 7}"
   ]
  },
  {
   "cell_type": "code",
   "execution_count": 31,
   "metadata": {},
   "outputs": [
    {
     "data": {
      "text/plain": [
       "True"
      ]
     },
     "execution_count": 31,
     "metadata": {},
     "output_type": "execute_result"
    }
   ],
   "source": [
    "a == {'cat', 1, 2, 3, 4, 7}"
   ]
  },
  {
   "cell_type": "code",
   "execution_count": 32,
   "metadata": {},
   "outputs": [
    {
     "data": {
      "text/plain": [
       "True"
      ]
     },
     "execution_count": 32,
     "metadata": {},
     "output_type": "execute_result"
    }
   ],
   "source": [
    "{1, 2, 3, 4} > {1, 2} # proper subset"
   ]
  },
  {
   "cell_type": "code",
   "execution_count": 33,
   "metadata": {},
   "outputs": [
    {
     "data": {
      "text/plain": [
       "False"
      ]
     },
     "execution_count": 33,
     "metadata": {},
     "output_type": "execute_result"
    }
   ],
   "source": [
    "{1, 2, 3, 4, 5, 6} > {0, 1, 2}  # not proper subset"
   ]
  },
  {
   "cell_type": "code",
   "execution_count": 34,
   "metadata": {},
   "outputs": [
    {
     "data": {
      "text/plain": [
       "False"
      ]
     },
     "execution_count": 34,
     "metadata": {},
     "output_type": "execute_result"
    }
   ],
   "source": [
    "{1, 2, 3} > {1, 2, 3} # a subset but not a proper subset"
   ]
  },
  {
   "cell_type": "code",
   "execution_count": 35,
   "metadata": {},
   "outputs": [
    {
     "data": {
      "text/plain": [
       "True"
      ]
     },
     "execution_count": 35,
     "metadata": {},
     "output_type": "execute_result"
    }
   ],
   "source": [
    "{1, 2, 3} >= {1, 2, 3} # a regular subset"
   ]
  },
  {
   "cell_type": "code",
   "execution_count": 36,
   "metadata": {},
   "outputs": [],
   "source": [
    "def all_unique(array):\n",
    "    \"\"\"return True if all number in array are unique\"\"\"\n",
    "    for i in array:\n",
    "        if array.count(i) > 1:\n",
    "            return False\n",
    "    return True"
   ]
  },
  {
   "cell_type": "code",
   "execution_count": 37,
   "metadata": {},
   "outputs": [
    {
     "data": {
      "text/plain": [
       "True"
      ]
     },
     "execution_count": 37,
     "metadata": {},
     "output_type": "execute_result"
    }
   ],
   "source": [
    "all_unique([1, 2, 3, 4, 5])"
   ]
  },
  {
   "cell_type": "code",
   "execution_count": 38,
   "metadata": {},
   "outputs": [
    {
     "data": {
      "text/plain": [
       "False"
      ]
     },
     "execution_count": 38,
     "metadata": {},
     "output_type": "execute_result"
    }
   ],
   "source": [
    "all_unique([1, 2, 3, 4, 5, 1])"
   ]
  },
  {
   "cell_type": "code",
   "execution_count": 40,
   "metadata": {},
   "outputs": [
    {
     "data": {
      "text/plain": [
       "2"
      ]
     },
     "execution_count": 40,
     "metadata": {},
     "output_type": "execute_result"
    }
   ],
   "source": [
    "array = [1, 2, 3, 4, 5, 2]\n",
    "array.count(2)"
   ]
  },
  {
   "cell_type": "code",
   "execution_count": 41,
   "metadata": {},
   "outputs": [
    {
     "data": {
      "text/plain": [
       "(5, 6)"
      ]
     },
     "execution_count": 41,
     "metadata": {},
     "output_type": "execute_result"
    }
   ],
   "source": [
    "len(set(array)), len(array)"
   ]
  },
  {
   "cell_type": "code",
   "execution_count": 42,
   "metadata": {},
   "outputs": [],
   "source": [
    "def all_unique(array):\n",
    "    \"\"\"return True if all number in array are unique\"\"\"\n",
    "    return len(set(array)) == len(array)"
   ]
  },
  {
   "cell_type": "markdown",
   "metadata": {},
   "source": [
    "## Work with files\n",
    "* text files\n",
    "* json files\n",
    "* csv files"
   ]
  },
  {
   "cell_type": "code",
   "execution_count": 43,
   "metadata": {},
   "outputs": [
    {
     "name": "stdout",
     "output_type": "stream",
     "text": [
      " Exercises.ipynb            Lecture-2019-09-18.ipynb   shake.txt\r\n",
      " Introduction.ipynb        'Lecture 2.ipynb'           shoelace.txt\r\n",
      " Lecture-2019-09-11.ipynb   shakespeare.txt\r\n"
     ]
    }
   ],
   "source": [
    "ls"
   ]
  },
  {
   "cell_type": "code",
   "execution_count": 44,
   "metadata": {
    "scrolled": true
   },
   "outputs": [
    {
     "name": "stdout",
     "output_type": "stream",
     "text": [
      "                   1\n",
      "\n",
      "  From fairest creatures we desire increase,\n",
      "\n",
      "  That thereby beauty's rose might never die,\n",
      "\n",
      "  But as the riper should by time decease,\n",
      "\n",
      "  His tender heir might bear his memory:\n",
      "\n",
      "  But thou contracted to thine own bright eyes,\n",
      "\n",
      "  Feed'st thy light's flame with self-substantial fuel,\n",
      "\n",
      "  Making a famine where abundance lies,\n",
      "\n",
      "  Thy self thy foe, to thy sweet self too cruel:\n",
      "\n",
      "  Thou that art now the world's fresh ornament,\n",
      "\n",
      "  And only herald to the gaudy spring,\n",
      "\n",
      "  Within thine own bud buriest thy content,\n",
      "\n",
      "  And tender churl mak'st waste in niggarding:\n",
      "\n",
      "    Pity the world, or else this glutton be,\n",
      "\n",
      "    To eat the world's due, by the grave and thee.\n",
      "\n",
      "\n",
      "\n",
      "\n",
      "\n",
      "                     2\n",
      "\n",
      "  When forty winters shall besiege thy brow,\n",
      "\n",
      "  And dig deep trenches in thy beauty's field,\n",
      "\n",
      "  Thy youth's proud livery so gazed on now,\n",
      "\n",
      "  Will be a tattered weed of small worth held:  \n",
      "\n",
      "  Then being asked, where all thy beauty lies,\n",
      "\n",
      "  Where all the treasure of thy lusty days;\n",
      "\n",
      "  To say within thine own deep sunken eyes,\n",
      "\n",
      "  Were an all-eating shame, and thriftless praise.\n",
      "\n",
      "  How much more praise deserved thy beauty's use,\n",
      "\n",
      "  If thou couldst answer 'This fair child of mine\n",
      "\n",
      "  Shall sum my count, and make my old excuse'\n",
      "\n",
      "  Proving his beauty by succession thine.\n",
      "\n",
      "    This were to be new made when thou art old,\n",
      "\n",
      "    And see thy blood warm when thou feel'st it cold.\n",
      "\n"
     ]
    }
   ],
   "source": [
    "with open('shakespeare.txt', 'rt') as file:\n",
    "    for line in file:\n",
    "        print(line)"
   ]
  },
  {
   "cell_type": "code",
   "execution_count": 45,
   "metadata": {},
   "outputs": [
    {
     "name": "stdout",
     "output_type": "stream",
     "text": [
      "0 :                    1\n",
      "\n",
      "1 :   From fairest creatures we desire increase,\n",
      "\n",
      "2 :   That thereby beauty's rose might never die,\n",
      "\n",
      "3 :   But as the riper should by time decease,\n",
      "\n",
      "4 :   His tender heir might bear his memory:\n",
      "\n",
      "5 :   But thou contracted to thine own bright eyes,\n",
      "\n",
      "6 :   Feed'st thy light's flame with self-substantial fuel,\n",
      "\n",
      "7 :   Making a famine where abundance lies,\n",
      "\n",
      "8 :   Thy self thy foe, to thy sweet self too cruel:\n",
      "\n",
      "9 :   Thou that art now the world's fresh ornament,\n",
      "\n",
      "10 :   And only herald to the gaudy spring,\n",
      "\n",
      "11 :   Within thine own bud buriest thy content,\n",
      "\n",
      "12 :   And tender churl mak'st waste in niggarding:\n",
      "\n",
      "13 :     Pity the world, or else this glutton be,\n",
      "\n",
      "14 :     To eat the world's due, by the grave and thee.\n",
      "\n",
      "15 : \n",
      "\n",
      "16 : \n",
      "\n",
      "17 :                      2\n",
      "\n",
      "18 :   When forty winters shall besiege thy brow,\n",
      "\n",
      "19 :   And dig deep trenches in thy beauty's field,\n",
      "\n",
      "20 :   Thy youth's proud livery so gazed on now,\n",
      "\n",
      "21 :   Will be a tattered weed of small worth held:  \n",
      "\n",
      "22 :   Then being asked, where all thy beauty lies,\n",
      "\n",
      "23 :   Where all the treasure of thy lusty days;\n",
      "\n",
      "24 :   To say within thine own deep sunken eyes,\n",
      "\n",
      "25 :   Were an all-eating shame, and thriftless praise.\n",
      "\n",
      "26 :   How much more praise deserved thy beauty's use,\n",
      "\n",
      "27 :   If thou couldst answer 'This fair child of mine\n",
      "\n",
      "28 :   Shall sum my count, and make my old excuse'\n",
      "\n",
      "29 :   Proving his beauty by succession thine.\n",
      "\n",
      "30 :     This were to be new made when thou art old,\n",
      "\n",
      "31 :     And see thy blood warm when thou feel'st it cold.\n",
      "\n"
     ]
    }
   ],
   "source": [
    "with open('shakespeare.txt', 'rt') as file:\n",
    "    for line_number, line in enumerate(file):\n",
    "        print(line_number, ':', line)"
   ]
  },
  {
   "cell_type": "code",
   "execution_count": 46,
   "metadata": {},
   "outputs": [],
   "source": [
    "# without with, you have to explicitly close the file and handle errors properly\n",
    "# read the whole thing as one string\n",
    "file = open('shakespeare.txt', 'rt')\n",
    "line = file.read()\n",
    "file.close()"
   ]
  },
  {
   "cell_type": "code",
   "execution_count": 47,
   "metadata": {},
   "outputs": [],
   "source": [
    "# read lines one at a time\n",
    "file = open('shakespeare.txt', 'rt')\n",
    "line1 = file.readline()  #\n",
    "line2 = file.readline()\n",
    "file.close()"
   ]
  },
  {
   "cell_type": "code",
   "execution_count": 48,
   "metadata": {},
   "outputs": [],
   "source": [
    "import json"
   ]
  },
  {
   "cell_type": "markdown",
   "metadata": {},
   "source": [
    "## More on string manipulations"
   ]
  },
  {
   "cell_type": "code",
   "execution_count": 49,
   "metadata": {},
   "outputs": [],
   "source": [
    "sentence = 'This is   a sentence with words (of wisdom)'"
   ]
  },
  {
   "cell_type": "code",
   "execution_count": 50,
   "metadata": {},
   "outputs": [
    {
     "data": {
      "text/plain": [
       "1"
      ]
     },
     "execution_count": 50,
     "metadata": {},
     "output_type": "execute_result"
    }
   ],
   "source": [
    "sentence.split().count('is')"
   ]
  },
  {
   "cell_type": "code",
   "execution_count": 51,
   "metadata": {},
   "outputs": [
    {
     "data": {
      "text/plain": [
       "False"
      ]
     },
     "execution_count": 51,
     "metadata": {},
     "output_type": "execute_result"
    }
   ],
   "source": [
    "'The' == 'the'"
   ]
  },
  {
   "cell_type": "code",
   "execution_count": 52,
   "metadata": {},
   "outputs": [
    {
     "data": {
      "text/plain": [
       "True"
      ]
     },
     "execution_count": 52,
     "metadata": {},
     "output_type": "execute_result"
    }
   ],
   "source": [
    "'The'.lower() == 'tHe'.lower()"
   ]
  },
  {
   "cell_type": "code",
   "execution_count": null,
   "metadata": {},
   "outputs": [],
   "source": [
    "words = 'This is   a sentence with words (of wisdom)'.upper().split()"
   ]
  },
  {
   "cell_type": "code",
   "execution_count": null,
   "metadata": {},
   "outputs": [],
   "source": [
    "words"
   ]
  },
  {
   "cell_type": "code",
   "execution_count": null,
   "metadata": {},
   "outputs": [],
   "source": [
    "sentence = 'Brown Fox Jumps Over The Lazy dog brown fox Jumps over The Lazy Dog'"
   ]
  },
  {
   "cell_type": "code",
   "execution_count": null,
   "metadata": {},
   "outputs": [],
   "source": [
    "# how many unique letters are in this sentence (case insensitive)"
   ]
  },
  {
   "cell_type": "code",
   "execution_count": null,
   "metadata": {},
   "outputs": [],
   "source": [
    "len(set(sentence.upper()))"
   ]
  },
  {
   "cell_type": "code",
   "execution_count": null,
   "metadata": {},
   "outputs": [],
   "source": [
    "q = sentence.replace(' ', '', 3)"
   ]
  },
  {
   "cell_type": "code",
   "execution_count": null,
   "metadata": {},
   "outputs": [],
   "source": [
    "# sentence remains unchanged\n",
    "q, sentence"
   ]
  },
  {
   "cell_type": "code",
   "execution_count": null,
   "metadata": {},
   "outputs": [],
   "source": [
    "'-*-'.join(['one', 'two', 'three'])"
   ]
  },
  {
   "cell_type": "code",
   "execution_count": null,
   "metadata": {},
   "outputs": [],
   "source": [
    "''.join(sentence.split())"
   ]
  },
  {
   "cell_type": "code",
   "execution_count": null,
   "metadata": {},
   "outputs": [],
   "source": [
    "seq = sentence.split()"
   ]
  },
  {
   "cell_type": "code",
   "execution_count": null,
   "metadata": {},
   "outputs": [],
   "source": [
    "seq"
   ]
  },
  {
   "cell_type": "code",
   "execution_count": null,
   "metadata": {},
   "outputs": [],
   "source": [
    "''.join(seq)"
   ]
  },
  {
   "cell_type": "code",
   "execution_count": null,
   "metadata": {},
   "outputs": [],
   "source": [
    "seq.count('The')"
   ]
  },
  {
   "cell_type": "code",
   "execution_count": null,
   "metadata": {},
   "outputs": [],
   "source": [
    "# Count unique words in shakespeare.txt\n",
    "filename='shakespeare.txt'\n",
    "with open(filename, 'rt') as file:\n",
    "    text = file.read()\n",
    "print(f\"There are {len(set(text.split()))} unique words in {filename}\")"
   ]
  },
  {
   "cell_type": "markdown",
   "metadata": {},
   "source": [
    "## More on functions"
   ]
  },
  {
   "cell_type": "markdown",
   "metadata": {},
   "source": [
    "## Work with modules"
   ]
  },
  {
   "cell_type": "markdown",
   "metadata": {},
   "source": [
    "## Select dataset for final project"
   ]
  },
  {
   "cell_type": "code",
   "execution_count": null,
   "metadata": {},
   "outputs": [],
   "source": []
  }
 ],
 "metadata": {
  "kernelspec": {
   "display_name": "Python 3",
   "language": "python",
   "name": "python3"
  },
  "language_info": {
   "codemirror_mode": {
    "name": "ipython",
    "version": 3
   },
   "file_extension": ".py",
   "mimetype": "text/x-python",
   "name": "python",
   "nbconvert_exporter": "python",
   "pygments_lexer": "ipython3",
   "version": "3.7.3"
  }
 },
 "nbformat": 4,
 "nbformat_minor": 2
}
