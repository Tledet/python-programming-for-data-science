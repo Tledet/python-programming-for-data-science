{
 "cells": [
  {
   "cell_type": "markdown",
   "metadata": {},
   "source": [
    "# Test 1: Basics of Programming in Python"
   ]
  },
  {
   "cell_type": "markdown",
   "metadata": {},
   "source": [
    "Please feel free to search for answers in reference materials in books or online. However please work individually and do not ask anyone else for the solutions."
   ]
  },
  {
   "cell_type": "markdown",
   "metadata": {},
   "source": [
    "## Section 1. Basic statements and expressions. (1 point each, 0.5 for partial answers)"
   ]
  },
  {
   "cell_type": "markdown",
   "metadata": {},
   "source": [
    "#### 1. What will be the data types of `a` and `b` after evaluating the following code snippet:\n",
    "```python\n",
    "a = 3\n",
    "b = a / 7\n",
    "```"
   ]
  },
  {
   "cell_type": "markdown",
   "metadata": {},
   "source": [
    "#### 2. *Control flow structures* define what statements get executed and in what order. What control structures make use of statements `continue` and `break`. "
   ]
  },
  {
   "cell_type": "markdown",
   "metadata": {},
   "source": [
    "#### 3. What features do the types `set` and a `dict` have in common?\n",
    "\n",
    "#### 4. Name three differences between the types `list` and `set`?"
   ]
  },
  {
   "cell_type": "markdown",
   "metadata": {},
   "source": [
    "#### 5. Which of the following variables will a value of type `tuple` after executing the following code (there coule be more than one choice)\n",
    "\n",
    "```python\n",
    "a = {1, 2, 3}\n",
    "b = \"1, 2, 3\"\n",
    "c = (1, 2, 3)\n",
    "d = [1, 2, 3]\n",
    "e = 1, 2, 3\n",
    "```\n",
    "`a`, `b`, `c`, `d`, or `e`?\n",
    "\n",
    "#### 6. If you see the following expression:\n",
    "```\n",
    "city[\"population\"] = 37_310\n",
    "```\n",
    "Which of the following data types is `city`: \n",
    "`list`, `tuple`, `dict`, `set`, `int`, or `float`?"
   ]
  },
  {
   "cell_type": "markdown",
   "metadata": {},
   "source": [
    "#### 7. If you see the following statement:\n",
    "```\n",
    "g.add(item)\n",
    "```\n",
    "Which of the following data types is `g`:\n",
    "`list`, `tuple`, `dict`, `set`, or `int`?\n",
    "\n",
    "\n",
    "#### 8. In the following expression, which arithmetic operator will be calculated first?\n",
    "```python\n",
    "a = (b - r) * 2 ** c % 3\n",
    "```\n",
    "\n",
    "#### 9. And which operator will be evaluated last before the assignment?\n",
    "```python\n",
    "a = (b - r) * 2 ** c % 3\n",
    "```"
   ]
  },
  {
   "cell_type": "markdown",
   "metadata": {},
   "source": [
    "#### 10. Imagine you are given the variables `name` and `occupation` that are created like this:\n",
    "```python\n",
    "name = \"Alice\"\n",
    "occupation = \"student\"\n",
    "```\n",
    "\n",
    "Write a python statement that uses `name` and `occupation` to print\n",
    "```\n",
    "Alice is a student.\n",
    "```"
   ]
  },
  {
   "cell_type": "markdown",
   "metadata": {},
   "source": [
    "#### 11. Imagine you are given the variable `person` that is created like this:\n",
    "\n",
    "```python\n",
    "person = {'name': 'Alice', 'occupation': 'student'}\n",
    "```\n",
    "\n",
    "Write a python statement that uses `person` to print\n",
    "```\n",
    "Alice is a student.\n",
    "```"
   ]
  },
  {
   "cell_type": "markdown",
   "metadata": {},
   "source": [
    "#### 12. How can you find out the data type of an object in python?\n",
    "\n",
    "#### 13. You have the following list comprehension:\n",
    "\n",
    "```python\n",
    "array = [item for item in seq]    \n",
    "```\n",
    "\n",
    "Which of the following data types can `seq` be? \n",
    "* an `int`\n",
    "* a `tuple`\n",
    "* a `dict`\n",
    "* a `float`\n",
    "* a `set`\n",
    "* a `string`"
   ]
  },
  {
   "cell_type": "markdown",
   "metadata": {},
   "source": [
    "#### 14. What is the Python standard library? Name three modules from the standard library."
   ]
  },
  {
   "cell_type": "markdown",
   "metadata": {},
   "source": [
    "#### 15. Apply de Morgan's Law to simplify the logical expression in this `if` statement:\n",
    "\n",
    "```python\n",
    "if not(answer == \"yes\" or not file_is_found):\n",
    "    print(a)\n",
    "```"
   ]
  },
  {
   "cell_type": "markdown",
   "metadata": {},
   "source": [
    "#### 16. Apply de Morgan's Law to simplify the following expression:\n",
    "\n",
    "```python\n",
    "if not(a is not None and a >= 0 and a != b):\n",
    "    print(a)\n",
    "```"
   ]
  },
  {
   "cell_type": "markdown",
   "metadata": {},
   "source": [
    "#### 17.  The following code snippet has a bug and won't run. How should you fix it?\n",
    "\n",
    "```python\n",
    "for i in range(10):\n",
    "    print(i * 3)\n",
    "if i == 3:\n",
    "    break\n",
    "```\n",
    "\n",
    "#### 18. What will the following code print and why?\n",
    "\n",
    "```python\n",
    "a = \"False\"\n",
    "if a:\n",
    "    print(\"Yes\")\n",
    "else\n",
    "    print(\"No\")\n",
    "```"
   ]
  },
  {
   "cell_type": "markdown",
   "metadata": {},
   "source": [
    "## 2 Simple programs: 5 points each\n",
    "\n",
    "#### 19. Write code that prints a countdown from 100 to 0\n",
    "\n",
    "```\n",
    "100\n",
    "99\n",
    "98\n",
    "...\n",
    "2\n",
    "1\n",
    "0\n",
    "```\n",
    "\n",
    "#### 20. Write code that calculates and prints the sum all odd numbers from 1 to 99\n",
    "\n",
    "#### 21. Define the function `roll_dice()` that returns a random number between 1 and 6. \n",
    "**Hint:** Which module do you need to import?\n",
    "\n",
    "#### 22. Define the function `roll_dice(n)` that returns `n` random numbers between 1 and 6.\n",
    "How do you make it so that calling `roll_dice()` with no arguments will flip two dice?"
   ]
  },
  {
   "cell_type": "markdown",
   "metadata": {},
   "source": [
    "#### 23. Define the function `print_square_frame(side)` so that calling `print_square_frame(7)` would print \n",
    "\n",
    "```\n",
    "# # # # # # #\n",
    "#           #\n",
    "#           #\n",
    "#           #\n",
    "#           #\n",
    "#           #\n",
    "# # # # # # #\n",
    "```\n",
    "\n",
    "You can assume that `side >= 2`.\n",
    "\n",
    "\n",
    "\n",
    "#### 24. Define the function `print_rectangle(width, height)` so that calling `print_rectangle(6, 4)` would print \n",
    "\n",
    "```\n",
    "# # # # # # \n",
    "# # # # # #  \n",
    "# # # # # #  \n",
    "# # # # # #  \n",
    "```\n",
    "\n",
    "#### 25. Define the function `print_diamond(side)` so that calling `print_diamond(5)` would print \n",
    "```\n",
    "    #\n",
    "   # #\n",
    "  # # #\n",
    " # # # #\n",
    "# # # # #\n",
    " # # # #\n",
    "  # # #\n",
    "   # #\n",
    "    #\n",
    "```\n",
    "\n",
    "#### 26. Define the function `print_stairs(step, number)` so that calling `print_stairs(2,  5)` would print five stairs of with sides 2 as follows.\n",
    "\n",
    "```\n",
    "# # \n",
    "# #\n",
    "# # # #\n",
    "# # # #  \n",
    "# # # # # #  \n",
    "# # # # # # \n",
    "# # # # # # # # \n",
    "# # # # # # # # \n",
    "# # # # # # # # # #\n",
    "# # # # # # # # # #  \n",
    "```\n",
    "And `print_stairs(5, 2)` would produce\n",
    "```\n",
    "# # # # #\n",
    "# # # # # \n",
    "# # # # #\n",
    "# # # # #\n",
    "# # # # #\n",
    "# # # # # # # # # #\n",
    "# # # # # # # # # #\n",
    "# # # # # # # # # #\n",
    "# # # # # # # # # #\n",
    "# # # # # # # # # #\n",
    "```"
   ]
  },
  {
   "cell_type": "markdown",
   "metadata": {},
   "source": [
    "#### 27. Define the function `is_right_triangle(a, b, c)`, which should return `True` if the numers of `a`, `b`, and `c` could be the sides of a right triangle.\n",
    "\n",
    "Hint: In a right triangle, the square of one side is the sum of the squares of the two others.\n",
    "\n",
    "These tests should pass:\n",
    "\n",
    "```python\n",
    "# these are right triangles, the function should return True\n",
    "assert is_right_triangle(3, 4, 5)\n",
    "assert is_right_triangle(8, 17, 15)\n",
    "assert is_right_triangle(25, 24, 7)\n",
    "\n",
    "# These are not right triangles, the function should return False\n",
    "assert not is_right_triangle(3, 7, 3)\n",
    "assert not is_right_triangle(10, 4, 4)\n",
    "```"
   ]
  },
  {
   "cell_type": "markdown",
   "metadata": {},
   "source": [
    "## 3. More difficult programs (10 points each)\n",
    "\n",
    "#### 28. Define the function `clamp_zero(array)` that takes a sequence (list or tuple)  of numbers and returns the same list with all negative numbers replaces with zeros.\n",
    "These tests should pass:\n",
    "\n",
    "```python\n",
    "assert clamp_zero((-3, 4, -5, 0, 9, -7, 0)) == [0, 4, 0, 0, 9, 0, 0] \n",
    "assert clamp_zero([0, 0, -7.5, 3, 5, 0, 7.2, -7.3]) ==  [0, 0, 0, 3, 5, 0, 7.2, 0] \n",
    "```"
   ]
  },
  {
   "cell_type": "markdown",
   "metadata": {},
   "source": [
    "#### 29. Define the function `str_to_num` that takes a sequence (list or tuple) of numbers represented as strings and returns the same list with the same numbers represented as floats. Empty strings should become zeros.\n",
    "\n",
    "These tests should pass:\n",
    "\n",
    "```python\n",
    "assert str_to_num((\"3\", \"4\", \"5.5\", \"-7.7\")) == [3, 4, 5.5, -7.7] \n",
    "assert str_to_num([\"3\", \"\", \"-3.15\", \"0\"]) ==  [3, 0, -3.15, 0] \n",
    "```"
   ]
  },
  {
   "cell_type": "markdown",
   "metadata": {},
   "source": [
    "#### 30. Define the function `left_typed` that takes a string and returns `True` if the string can be typed with the left hand on the QWERTY keyboard with typical hand placement.  The keys reached by the left hand are `qwertasdfgzxcvb`.\n",
    "\n",
    "It must pass the following `assert`\n",
    "\n",
    "```python\n",
    "assert left_typed(\"verterbrates\") \n",
    "assert not left_typed(\"bacteria\")\n",
    "```\n",
    "\n",
    "#### 31. Define the function `word_lengths` that takes a string and returns a list containing the lengths of all its words:\n",
    "\n",
    "It must pass the following `assert`\n",
    "\n",
    "```python\n",
    "assert word_lengths(\"University of Saint Thomas\") == [10, 2, 5, 6]\n",
    "assert acronum(\"The Museum of Fine Arts\") == [3, 7, 2, 4, 4]\n",
    "```"
   ]
  },
  {
   "cell_type": "markdown",
   "metadata": {},
   "source": [
    "#### 32. Write the code that computes the fraction of English words containing the letter `e`.\n",
    "* Use the `english-words.txt` file from class assignments\n",
    "* To verify, my answer was: 67.85%\n",
    "\n",
    "#### 33. Write code that measures the **median** length of words in the English language\n",
    "* Use the `english-words.txt` file from class assignments\n",
    "* **Hint:** You may need to import a module from the standard library to compute the median.\n",
    "* To verify, my answer was: 8"
   ]
  },
  {
   "cell_type": "markdown",
   "metadata": {},
   "source": [
    "## 4. Challenging (15 points each)"
   ]
  },
  {
   "cell_type": "markdown",
   "metadata": {},
   "source": [
    "For the final two problems, you will need to use the `us-cities.json` file from the class assignments. You will also need the list of US capitals. I provide below the code that creates a dictionary where the keys are state names and the values of capital city names."
   ]
  },
  {
   "cell_type": "code",
   "execution_count": 10,
   "metadata": {},
   "outputs": [],
   "source": [
    "capitals_text = \"\"\"\n",
    "Montgomery, Alabama\n",
    "Juneau, Alaska\n",
    "Phoenix, Arizona\n",
    "Little Rock, Arkansas\n",
    "Sacramento, California\n",
    "Denver, Colorado\n",
    "Hartford, Connecticut\n",
    "Dover, Delaware\n",
    "Tallahassee, Florida\n",
    "Atlanta, Georgia\n",
    "Honolulu, Hawaii\n",
    "Boise, Idaho\n",
    "Springfield, Illinois\n",
    "Indianapolis, Indiana\n",
    "Des Moines, Iowa\n",
    "Topeka, Kansas\n",
    "Frankfort, Kentucky\n",
    "Baton Rouge, Louisiana\n",
    "Augusta, Maine\n",
    "Annapolis, Maryland\n",
    "Boston, Massachusetts\n",
    "Lansing, Michigan\n",
    "Saint Paul, Minnesota\n",
    "Jackson, Mississippi\n",
    "Jefferson City, Missouri\n",
    "Helena, Montana\n",
    "Lincoln, Nebraska\n",
    "Carson City, Nevada\n",
    "Concord, New Hampshire\n",
    "Trenton, New Jersey\n",
    "Santa Fe, New Mexico\n",
    "Albany, New York\n",
    "Raleigh, North Carolina\n",
    "Bismarck, North Dakota\n",
    "Columbus, Ohio\n",
    "Oklahoma City, Oklahoma\n",
    "Salem, Oregon\n",
    "Harrisburg, Pennsylvania\n",
    "Providence, Rhode Island\n",
    "Columbia, South Carolina\n",
    "Pierre, South Dakota\n",
    "Nashville, Tennessee\n",
    "Austin, Texas\n",
    "Salt Lake City, Utah\n",
    "Montpelier, Vermont\n",
    "Richmond, Virginia\n",
    "Olympia, Washington\n",
    "Charleston, West Virginia\n",
    "Madison, Wisconsin\n",
    "Cheyenne, Wyoming\n",
    "\"\"\"\n",
    "capitals = dict(s.split(', ')[::-1] for s in capitals_text.splitlines() if s)"
   ]
  },
  {
   "cell_type": "markdown",
   "metadata": {},
   "source": [
    "#### 35. Write code that saves information about capital cities into a JSON file.\n",
    "* Read the `us-cities.json` file from the class assignments\n",
    "* Create a new json file, `capital-cities.json` and write out only the state capitals into it.\n",
    "* Note that `us-cities.json` does not contain some of the capitals because they either did not make the list of most populous cities or because they are listed differently (e.g. Nashville-Davidson for Nashville, Kentucky). Simply skip these capitals. So your `capital-cities.json` will contain some 44 entries rather than 50."
   ]
  },
  {
   "cell_type": "markdown",
   "metadata": {},
   "source": [
    "#### 36. Write code that saves information about the biggest city in each state a JSON file.\n",
    "* Read the `us-cities.json` file from the class assignments\n",
    "* Create a new json file, `biggest-cities.json` and write out only the state's biggest city into it.\n",
    "* **Hint**: you can use the fact that the the cities in `us-cities.json` are sorted by population. Therefore, the first city that you encounter from a given state is the biggest city for that state."
   ]
  },
  {
   "cell_type": "markdown",
   "metadata": {},
   "source": [
    "### Extra credit (+10 points)\n",
    "\n",
    "#### 37. Write the code that prints US state capitals that are also the most populous cities in their respective states.\n"
   ]
  }
 ],
 "metadata": {
  "kernelspec": {
   "display_name": "Python 3",
   "language": "python",
   "name": "python3"
  },
  "language_info": {
   "codemirror_mode": {
    "name": "ipython",
    "version": 3
   },
   "file_extension": ".py",
   "mimetype": "text/x-python",
   "name": "python",
   "nbconvert_exporter": "python",
   "pygments_lexer": "ipython3",
   "version": "3.7.3"
  }
 },
 "nbformat": 4,
 "nbformat_minor": 2
}
