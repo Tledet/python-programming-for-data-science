{
 "cells": [
  {
   "cell_type": "markdown",
   "metadata": {},
   "source": [
    "# Test 1: Basics of Programming in Python"
   ]
  },
  {
   "cell_type": "markdown",
   "metadata": {},
   "source": [
    "Please feel free to search for answers in reference materials in books or online. However please work individually and do not ask anyone else for the solutions."
   ]
  },
  {
   "cell_type": "markdown",
   "metadata": {},
   "source": [
    "## Section 1. Basic statements and expressions. (1 point each, 0.5 for partial answers)"
   ]
  },
  {
   "cell_type": "markdown",
   "metadata": {},
   "source": [
    "#### 1. What will be the data types of `a` and `b` after evaluating the following code snippet:\n",
    "```python\n",
    "a = 3\n",
    "b = a / 7\n",
    "```"
   ]
  },
  {
   "cell_type": "markdown",
   "metadata": {},
   "source": [
    "#### 2. *Control flow structures* define what statements get executed and in what order. What control structures make use of statements `continue` and `break`. "
   ]
  },
  {
   "cell_type": "markdown",
   "metadata": {},
   "source": [
    "#### 3. What features do the types `set` and a `dict` have in common?\n",
    "\n",
    "#### 4. Name three differences between the types `list` and `set`?"
   ]
  },
  {
   "cell_type": "markdown",
   "metadata": {},
   "source": [
    "#### 5. Which of the following variables will a value of type `tuple` after executing the following code (there coule be more than one choice)\n",
    "\n",
    "```python\n",
    "a = {1, 2, 3}\n",
    "b = \"1, 2, 3\"\n",
    "c = (1, 2, 3)\n",
    "d = [1, 2, 3]\n",
    "e = 1, 2, 3\n",
    "```\n",
    "`a`, `b`, `c`, `d`, or `e`?\n",
    "\n",
    "#### 6. If you see the following expression:\n",
    "```\n",
    "city[\"population\"] = 37_310\n",
    "```\n",
    "Which of the following data types is `city`: \n",
    "`list`, `tuple`, `dict`, `set`, `int`, or `float`?"
   ]
  },
  {
   "cell_type": "markdown",
   "metadata": {},
   "source": [
    "#### 7. If you see the following statement:\n",
    "```\n",
    "g.add(item)\n",
    "```\n",
    "Which of the following data types is `g`:\n",
    "`list`, `tuple`, `dict`, `set`, or `int`?\n",
    "\n",
    "\n",
    "#### 8. In the following expression, which arithmetic operator will be calculated first?\n",
    "```python\n",
    "a = (b - r) * 2 ** c % 3\n",
    "```\n",
    "\n",
    "#### 9. And which operator will be evaluated last before the assignment?\n",
    "```python\n",
    "a = (b - r) * 2 ** c % 3\n",
    "```"
   ]
  },
  {
   "cell_type": "markdown",
   "metadata": {},
   "source": [
    "#### 10. Imagine you are given the variables `name` and `occupation` that are created like this:\n",
    "```python\n",
    "name = \"Alice\"\n",
    "occupation = \"student\"\n",
    "```\n",
    "\n",
    "Write a python statement that uses `name` and `occupation` to print\n",
    "```\n",
    "Alice is a student.\n",
    "```"
   ]
  },
  {
   "cell_type": "markdown",
   "metadata": {},
   "source": [
    "#### 11. Imagine you are given the variable `person` that is created like this:\n",
    "\n",
    "```python\n",
    "person = {'name': 'Alice', 'occupation': 'student'}\n",
    "```\n",
    "\n",
    "Write a python statement that uses `person` to print\n",
    "```\n",
    "Alice is a student.\n",
    "```"
   ]
  },
  {
   "cell_type": "markdown",
   "metadata": {},
   "source": [
    "#### 12. How can you find out the data type of an object in python?\n",
    "\n",
    "#### 13. You have the following list comprehension:\n",
    "\n",
    "```python\n",
    "array = [item for item in seq]    \n",
    "```\n",
    "\n",
    "Which of the following data types can `seq` be? \n",
    "* an `int`\n",
    "* a `tuple`\n",
    "* a `dict`\n",
    "* a `float`\n",
    "* a `set`\n",
    "* a `string`"
   ]
  },
  {
   "cell_type": "markdown",
   "metadata": {},
   "source": [
    "#### 14. What is the Python standard library? Name three modules from the standard library."
   ]
  },
  {
   "cell_type": "markdown",
   "metadata": {},
   "source": [
    "#### 15. Apply de Morgan's Law to simplify the logical expression in this `if` statement:\n",
    "\n",
    "```python\n",
    "if not(answer == \"yes\" or not file_is_found):\n",
    "    print(a)\n",
    "```"
   ]
  },
  {
   "cell_type": "code",
   "execution_count": null,
   "metadata": {},
   "outputs": [],
   "source": [
    "answer != \"yes\" and file_is_found:\n"
   ]
  },
  {
   "cell_type": "markdown",
   "metadata": {},
   "source": [
    "#### 16. Apply de Morgan's Law to simplify the following expression:\n",
    "\n",
    "```python\n",
    "if not(a is not None and a >= 0 and a != b):\n",
    "    print(a)\n",
    "```"
   ]
  },
  {
   "cell_type": "markdown",
   "metadata": {},
   "source": [
    "#### 17.  The following code snippet has a bug and won't run. How should you fix it?\n",
    "\n",
    "```python\n",
    "for i in range(10):\n",
    "    print(i * 3)\n",
    "if i == 3:\n",
    "    break\n",
    "```\n",
    "\n",
    "#### 18. What will the following code print and why?\n",
    "\n",
    "```python\n",
    "a = \"False\"\n",
    "if a:\n",
    "    print(\"Yes\")\n",
    "else\n",
    "    print(\"No\")\n",
    "```"
   ]
  },
  {
   "cell_type": "code",
   "execution_count": null,
   "metadata": {},
   "outputs": [],
   "source": [
    "for i in range(100, -1, -1):\n",
    "    print(i)\n",
    "    \n",
    "i = 100\n",
    "while(i >= 0):\n",
    "    print(i)\n",
    "    i -= 1\n",
    "    "
   ]
  },
  {
   "cell_type": "markdown",
   "metadata": {},
   "source": [
    "## 2 Simple programs: 5 points each\n",
    "\n",
    "#### 19. Write code that prints a countdown from 100 to 0\n",
    "\n",
    "```\n",
    "100\n",
    "99\n",
    "98\n",
    "...\n",
    "2\n",
    "1\n",
    "0\n",
    "```\n",
    "\n",
    "#### 20. Write code that calculates and prints the sum all odd numbers from 1 to 99\n",
    "\n",
    "#### 21. Define the function `roll_dice()` that returns a random number between 1 and 6. \n",
    "**Hint:** Which module do you need to import?\n",
    "\n",
    "#### 22. Define the function `roll_dice(n)` that returns `n` random numbers between 1 and 6.\n",
    "How do you make it so that calling `roll_dice()` with no arguments will flip two dice?"
   ]
  },
  {
   "cell_type": "markdown",
   "metadata": {},
   "source": [
    "#### 23. Define the function `print_square_frame(side)` so that calling `print_square_frame(7)` would print \n",
    "\n",
    "```\n",
    "# # # # # # #\n",
    "#           #\n",
    "#           #\n",
    "#           #\n",
    "#           #\n",
    "#           #\n",
    "# # # # # # #\n",
    "```\n",
    "\n",
    "You can assume that `side >= 2`.\n",
    "\n",
    "\n",
    "\n",
    "#### 24. Define the function `print_rectangle(width, height)` so that calling `print_rectangle(6, 4)` would print \n",
    "\n",
    "```\n",
    "# # # # # # \n",
    "# # # # # #  \n",
    "# # # # # #  \n",
    "# # # # # #  \n",
    "```\n",
    "\n",
    "#### 25. Define the function `print_diamond(side)` so that calling `print_diamond(5)` would print \n",
    "```\n",
    "    #\n",
    "   # #\n",
    "  # # #\n",
    " # # # #\n",
    "# # # # #\n",
    " # # # #\n",
    "  # # #\n",
    "   # #\n",
    "    #\n",
    "```\n",
    "\n",
    "#### 26. Define the function `print_stairs(step, number)` so that calling `print_stairs(2,  5)` would print five stairs of with sides 2 as follows.\n",
    "\n",
    "```\n",
    "# # \n",
    "# #\n",
    "# # # #\n",
    "# # # #  \n",
    "# # # # # #  \n",
    "# # # # # # \n",
    "# # # # # # # # \n",
    "# # # # # # # # \n",
    "# # # # # # # # # #\n",
    "# # # # # # # # # #  \n",
    "```\n",
    "And `print_stairs(5, 2)` would produce\n",
    "```\n",
    "# # # # #\n",
    "# # # # # \n",
    "# # # # #\n",
    "# # # # #\n",
    "# # # # #\n",
    "# # # # # # # # # #\n",
    "# # # # # # # # # #\n",
    "# # # # # # # # # #\n",
    "# # # # # # # # # #\n",
    "# # # # # # # # # #\n",
    "```"
   ]
  },
  {
   "cell_type": "markdown",
   "metadata": {},
   "source": [
    "#### 27. Define the function `is_right_triangle(a, b, c)`, which should return `True` if the numers of `a`, `b`, and `c` could be the sides of a right triangle.\n",
    "\n",
    "Hint: In a right triangle, the square of one side is the sum of the squares of the two others.\n",
    "\n",
    "These tests should pass:\n",
    "\n",
    "```python\n",
    "# these are right triangles, the function should return True\n",
    "assert is_right_triangle(3, 4, 5)\n",
    "assert is_right_triangle(8, 17, 15)\n",
    "assert is_right_triangle(25, 24, 7)\n",
    "\n",
    "# These are not right triangles, the function should return False\n",
    "assert not is_right_triangle(3, 7, 3)\n",
    "assert not is_right_triangle(10, 4, 4)\n",
    "```"
   ]
  },
  {
   "cell_type": "code",
   "execution_count": 6,
   "metadata": {},
   "outputs": [],
   "source": [
    "def is_right_triangle(a, b, c):\n",
    "    lst = sorted([a, b, c])\n",
    "    return lst[-1] ** 2 == lst[0] ** 2 + lst[1] ** 2"
   ]
  },
  {
   "cell_type": "markdown",
   "metadata": {},
   "source": [
    "## 3. More difficult programs (10 points each)\n",
    "\n",
    "#### 28. Define the function `clamp_zero(array)` that takes a sequence (list or tuple)  of numbers and returns the same list with all negative numbers replaces with zeros.\n",
    "These tests should pass:\n",
    "\n",
    "```python\n",
    "assert clamp_zero((-3, 4, -5, 0, 9, -7, 0)) == [0, 4, 0, 0, 9, 0, 0] \n",
    "assert clamp_zero([0, 0, -7.5, 3, 5, 0, 7.2, -7.3]) ==  [0, 0, 0, 3, 5, 0, 7.2, 0] \n",
    "```"
   ]
  },
  {
   "cell_type": "markdown",
   "metadata": {},
   "source": [
    "#### 29. Define the function `str_to_num` that takes a sequence (list or tuple) of numbers represented as strings and returns the same list with the same numbers represented as floats. Empty strings should become zeros.\n",
    "\n",
    "These tests should pass:\n",
    "\n",
    "```python\n",
    "assert str_to_num((\"3\", \"4\", \"5.5\", \"-7.7\")) == [3, 4, 5.5, -7.7] \n",
    "assert str_to_num([\"3\", \"\", \"-3.15\", \"0\"]) ==  [3, 0, -3.15, 0] \n",
    "```"
   ]
  },
  {
   "cell_type": "markdown",
   "metadata": {},
   "source": [
    "#### 30. Define the function `left_typed` that takes a string and returns `True` if the string can be typed with the left hand on the QWERTY keyboard with typical hand placement.  The keys reached by the left hand are `qwertasdfgzxcvb`.\n",
    "\n",
    "It must pass the following `assert`\n",
    "\n",
    "```python\n",
    "assert left_typed(\"verterbrates\") \n",
    "assert not left_typed(\"bacteria\")\n",
    "```\n",
    "\n",
    "#### 31. Define the function `word_lengths` that takes a string and returns a list containing the lengths of all its words:\n",
    "\n",
    "It must pass the following `assert`\n",
    "\n",
    "```python\n",
    "assert word_lengths(\"University of Saint Thomas\") == [10, 2, 5, 6]\n",
    "assert acronum(\"The Museum of Fine Arts\") == [3, 7, 2, 4, 4]\n",
    "```"
   ]
  },
  {
   "cell_type": "code",
   "execution_count": null,
   "metadata": {},
   "outputs": [],
   "source": [
    "def left_typed(word):\n",
    "    left_keys = 'qwertasdfgzxcvb'\n",
    "    for letter in word:\n",
    "        if letter not in left_keys:\n",
    "            return False\n",
    "    return True"
   ]
  },
  {
   "cell_type": "code",
   "execution_count": null,
   "metadata": {},
   "outputs": [],
   "source": [
    "def left_typed(word):\n",
    "    return all(letter in 'qwertasdfgzxcvb' for letter in word)\n"
   ]
  },
  {
   "cell_type": "markdown",
   "metadata": {},
   "source": [
    "#### 32. Write the code that computes the fraction of English words containing the letter `e`.\n",
    "* Use the `english-words.txt` file from class assignments\n",
    "* To verify, my answer was: 67.85%\n",
    "\n",
    "#### 33. Write code that measures the **median** length of words in the English language\n",
    "* Use the `english-words.txt` file from class assignments\n",
    "* **Hint:** You may need to import a module from the standard library to compute the median.\n",
    "* To verify, my answer was: 8"
   ]
  },
  {
   "cell_type": "code",
   "execution_count": 8,
   "metadata": {},
   "outputs": [],
   "source": [
    "with open('english-words.txt') as f:\n",
    "    words = f.read().splitlines()"
   ]
  },
  {
   "cell_type": "code",
   "execution_count": 10,
   "metadata": {},
   "outputs": [],
   "source": [
    "import statistics\n",
    "statistics.median([len(w) for w in words])"
   ]
  },
  {
   "cell_type": "markdown",
   "metadata": {},
   "source": [
    "## 4. Challenging (15 points each)"
   ]
  },
  {
   "cell_type": "markdown",
   "metadata": {},
   "source": [
    "For the final two problems, you will need to use the `us-cities.json` file from the class assignments. You will also need the list of US capitals. I provide below the code that creates a dictionary where the keys are state names and the values of capital city names."
   ]
  },
  {
   "cell_type": "code",
   "execution_count": 12,
   "metadata": {},
   "outputs": [],
   "source": [
    "capitals_text = \"\"\"\n",
    "Montgomery, Alabama\n",
    "Juneau, Alaska\n",
    "Phoenix, Arizona\n",
    "Little Rock, Arkansas\n",
    "Sacramento, California\n",
    "Denver, Colorado\n",
    "Hartford, Connecticut\n",
    "Dover, Delaware\n",
    "Tallahassee, Florida\n",
    "Atlanta, Georgia\n",
    "Honolulu, Hawaii\n",
    "Boise, Idaho\n",
    "Springfield, Illinois\n",
    "Indianapolis, Indiana\n",
    "Des Moines, Iowa\n",
    "Topeka, Kansas\n",
    "Frankfort, Kentucky\n",
    "Baton Rouge, Louisiana\n",
    "Augusta, Maine\n",
    "Annapolis, Maryland\n",
    "Boston, Massachusetts\n",
    "Lansing, Michigan\n",
    "Saint Paul, Minnesota\n",
    "Jackson, Mississippi\n",
    "Jefferson City, Missouri\n",
    "Helena, Montana\n",
    "Lincoln, Nebraska\n",
    "Carson City, Nevada\n",
    "Concord, New Hampshire\n",
    "Trenton, New Jersey\n",
    "Santa Fe, New Mexico\n",
    "Albany, New York\n",
    "Raleigh, North Carolina\n",
    "Bismarck, North Dakota\n",
    "Columbus, Ohio\n",
    "Oklahoma City, Oklahoma\n",
    "Salem, Oregon\n",
    "Harrisburg, Pennsylvania\n",
    "Providence, Rhode Island\n",
    "Columbia, South Carolina\n",
    "Pierre, South Dakota\n",
    "Nashville, Tennessee\n",
    "Austin, Texas\n",
    "Salt Lake City, Utah\n",
    "Montpelier, Vermont\n",
    "Richmond, Virginia\n",
    "Olympia, Washington\n",
    "Charleston, West Virginia\n",
    "Madison, Wisconsin\n",
    "Cheyenne, Wyoming\n",
    "\"\"\"\n",
    "capitals = dict(s.split(', ')[::-1] for s in capitals_text.splitlines() if s)"
   ]
  },
  {
   "cell_type": "markdown",
   "metadata": {},
   "source": [
    "#### 35. Write code that saves information about capital cities into a JSON file.\n",
    "* Read the `us-cities.json` file from the class assignments\n",
    "* Create a new json file, `capital-cities.json` and write out only the state capitals into it.\n",
    "* Note that `us-cities.json` does not contain some of the capitals because they either did not make the list of most populous cities or because they are listed differently (e.g. Nashville-Davidson for Nashville, Kentucky). Simply skip these capitals. So your `capital-cities.json` will contain some 44 entries rather than 50."
   ]
  },
  {
   "cell_type": "code",
   "execution_count": 24,
   "metadata": {},
   "outputs": [],
   "source": [
    "import json\n",
    "import city_utils as cu\n",
    "cities = cu.load_cities()\n",
    "\n",
    "capital_cities = [\n",
    "    city for city in cities \n",
    "    if city['state'] in capitals and city['city'] == capitals[city['state']]]\n",
    "\n",
    "with open('capital_cities.json', 'w') as f:\n",
    "    json.dump(capital_cities, f)"
   ]
  },
  {
   "cell_type": "code",
   "execution_count": 25,
   "metadata": {},
   "outputs": [
    {
     "name": "stdout",
     "output_type": "stream",
     "text": [
      "[{\"city\": \"Phoenix\", \"growth_from_2000_to_2013\": \"14.0%\", \"latitude\": 33.4483771, \"longitude\": -112.0740373, \"population\": \"1513367\", \"rank\": \"6\", \"state\": \"Arizona\"}, {\"city\": \"Austin\", \"growth_from_2000_to_2013\": \"31.7%\", \"latitude\": 30.267153, \"longitude\": -97.7430608, \"population\": \"885400\", \"rank\": \"11\", \"state\": \"Texas\"}, {\"city\": \"Indianapolis\", \"growth_from_2000_to_2013\": \"7.8%\", \"latitude\": 39.768403, \"longitude\": -86.158068, \"population\": \"843393\", \"rank\": \"12\", \"state\": \"Indiana\"}, {\"city\": \"Columbus\", \"growth_from_2000_to_2013\": \"14.8%\", \"latitude\": 39.9611755, \"longitude\": -82.99879419999999, \"population\": \"822553\", \"rank\": \"15\", \"state\": \"Ohio\"}, {\"city\": \"Denver\", \"growth_from_2000_to_2013\": \"16.7%\", \"latitude\": 39.7392358, \"longitude\": -104.990251, \"population\": \"649495\", \"rank\": \"22\", \"state\": \"Colorado\"}, {\"city\": \"Boston\", \"growth_from_2000_to_2013\": \"9.4%\", \"latitude\": 42.3600825, \"longitude\": -71.0588801, \"population\": \"645966\", \"rank\": \"24\", \"state\": \"Massachusetts\"}, {\"city\": \"Oklahoma City\", \"growth_from_2000_to_2013\": \"20.2%\", \"latitude\": 35.4675602, \"longitude\": -97.5164276, \"population\": \"610613\", \"rank\": \"27\", \"state\": \"Oklahoma\"}, {\"city\": \"Sacramento\", \"growth_from_2000_to_2013\": \"17.2%\", \"latitude\": 38.5815719, \"longitude\": -121.4943996, \"population\": \"479686\", \"rank\": \"35\", \"state\": \"California\"}, {\"city\": \"Atlanta\", \"growth_from_2000_to_2013\": \"6.2%\", \"latitude\": 33.7489954, \"longitude\": -84.3879824, \"population\": \"447841\", \"rank\": \"40\", \"state\": \"Georgia\"}, {\"city\": \"Raleigh\", \"growth_from_2000_to_2013\": \"48.7%\", \"latitude\": 35.7795897, \"longitude\": -78.6381787, \"population\": \"431746\", \"rank\": \"43\", \"state\": \"North Carolina\"}, {\"city\": \"Honolulu\", \"growth_from_2000_to_2013\": \"-6.2%\", \"latitude\": 21.3069444, \"longitude\": -157.8583333, \"population\": \"347884\", \"rank\": \"54\", \"state\": \"Hawaii\"}, {\"city\": \"Lincoln\", \"growth_from_2000_to_2013\": \"18.0%\", \"latitude\": 40.8257625, \"longitude\": -96.6851982, \"population\": \"268738\", \"rank\": \"72\", \"state\": \"Nebraska\"}, {\"city\": \"Madison\", \"growth_from_2000_to_2013\": \"15.8%\", \"latitude\": 43.0730517, \"longitude\": -89.4012302, \"population\": \"243344\", \"rank\": \"83\", \"state\": \"Wisconsin\"}, {\"city\": \"Baton Rouge\", \"growth_from_2000_to_2013\": \"0.4%\", \"latitude\": 30.4582829, \"longitude\": -91.1403196, \"population\": \"229426\", \"rank\": \"93\", \"state\": \"Louisiana\"}, {\"city\": \"Richmond\", \"growth_from_2000_to_2013\": \"8.2%\", \"latitude\": 37.5407246, \"longitude\": -77.4360481, \"population\": \"214114\", \"rank\": \"99\", \"state\": \"Virginia\"}, {\"city\": \"Des Moines\", \"growth_from_2000_to_2013\": \"3.9%\", \"latitude\": 41.6005448, \"longitude\": -93.6091064, \"population\": \"207510\", \"rank\": \"104\", \"state\": \"Iowa\"}, {\"city\": \"Montgomery\", \"growth_from_2000_to_2013\": \"-0.1%\", \"latitude\": 32.3668052, \"longitude\": -86.2999689, \"population\": \"201332\", \"rank\": \"111\", \"state\": \"Alabama\"}, {\"city\": \"Little Rock\", \"growth_from_2000_to_2013\": \"7.6%\", \"latitude\": 34.7464809, \"longitude\": -92.28959479999999, \"population\": \"197357\", \"rank\": \"118\", \"state\": \"Arkansas\"}, {\"city\": \"Salt Lake City\", \"growth_from_2000_to_2013\": \"5.1%\", \"latitude\": 40.7607793, \"longitude\": -111.8910474, \"population\": \"191180\", \"rank\": \"124\", \"state\": \"Utah\"}, {\"city\": \"Tallahassee\", \"growth_from_2000_to_2013\": \"21.8%\", \"latitude\": 30.4382559, \"longitude\": -84.28073289999999, \"population\": \"186411\", \"rank\": \"125\", \"state\": \"Florida\"}, {\"city\": \"Providence\", \"growth_from_2000_to_2013\": \"2.3%\", \"latitude\": 41.8239891, \"longitude\": -71.4128343, \"population\": \"177994\", \"rank\": \"134\", \"state\": \"Rhode Island\"}, {\"city\": \"Jackson\", \"growth_from_2000_to_2013\": \"-6.8%\", \"latitude\": 32.2987573, \"longitude\": -90.1848103, \"population\": \"172638\", \"rank\": \"138\", \"state\": \"Mississippi\"}, {\"city\": \"Salem\", \"growth_from_2000_to_2013\": \"16.4%\", \"latitude\": 44.9428975, \"longitude\": -123.0350963, \"population\": \"160614\", \"rank\": \"152\", \"state\": \"Oregon\"}, {\"city\": \"Columbia\", \"growth_from_2000_to_2013\": \"11.7%\", \"latitude\": 34.0007104, \"longitude\": -81.0348144, \"population\": \"133358\", \"rank\": \"192\", \"state\": \"South Carolina\"}, {\"city\": \"Topeka\", \"growth_from_2000_to_2013\": \"3.4%\", \"latitude\": 39.0558235, \"longitude\": -95.68901849999999, \"population\": \"127679\", \"rank\": \"202\", \"state\": \"Kansas\"}, {\"city\": \"Hartford\", \"growth_from_2000_to_2013\": \"0.6%\", \"latitude\": 41.76371109999999, \"longitude\": -72.6850932, \"population\": \"125017\", \"rank\": \"212\", \"state\": \"Connecticut\"}, {\"city\": \"Springfield\", \"growth_from_2000_to_2013\": \"4.2%\", \"latitude\": 39.78172130000001, \"longitude\": -89.6501481, \"population\": \"117006\", \"rank\": \"230\", \"state\": \"Illinois\"}, {\"city\": \"Lansing\", \"growth_from_2000_to_2013\": \"-4.4%\", \"latitude\": 42.732535, \"longitude\": -84.5555347, \"population\": \"113972\", \"rank\": \"236\", \"state\": \"Michigan\"}, {\"city\": \"Albany\", \"growth_from_2000_to_2013\": \"4.1%\", \"latitude\": 42.6525793, \"longitude\": -73.7562317, \"population\": \"98424\", \"rank\": \"299\", \"state\": \"New York\"}, {\"city\": \"Trenton\", \"growth_from_2000_to_2013\": \"-1.2%\", \"latitude\": 40.2170534, \"longitude\": -74.7429384, \"population\": \"84349\", \"rank\": \"374\", \"state\": \"New Jersey\"}, {\"city\": \"Santa Fe\", \"growth_from_2000_to_2013\": \"10.5%\", \"latitude\": 35.6869752, \"longitude\": -105.937799, \"population\": \"69976\", \"rank\": \"487\", \"state\": \"New Mexico\"}, {\"city\": \"Bismarck\", \"growth_from_2000_to_2013\": \"20.1%\", \"latitude\": 46.8083268, \"longitude\": -100.7837392, \"population\": \"67034\", \"rank\": \"510\", \"state\": \"North Dakota\"}, {\"city\": \"Cheyenne\", \"growth_from_2000_to_2013\": \"16.9%\", \"latitude\": 41.1399814, \"longitude\": -104.8202462, \"population\": \"62448\", \"rank\": \"558\", \"state\": \"Wyoming\"}, {\"city\": \"Carson City\", \"growth_from_2000_to_2013\": \"2.9%\", \"latitude\": 39.1637984, \"longitude\": -119.7674034, \"population\": \"54080\", \"rank\": \"678\", \"state\": \"Nevada\"}, {\"city\": \"Charleston\", \"growth_from_2000_to_2013\": \"-4.7%\", \"latitude\": 38.3498195, \"longitude\": -81.6326234, \"population\": \"50821\", \"rank\": \"725\", \"state\": \"West Virginia\"}, {\"city\": \"Harrisburg\", \"growth_from_2000_to_2013\": \"0.6%\", \"latitude\": 40.2731911, \"longitude\": -76.8867008, \"population\": \"49188\", \"rank\": \"759\", \"state\": \"Pennsylvania\"}, {\"city\": \"Olympia\", \"growth_from_2000_to_2013\": \"12.1%\", \"latitude\": 47.0378741, \"longitude\": -122.9006951, \"population\": \"48338\", \"rank\": \"776\", \"state\": \"Washington\"}, {\"city\": \"Jefferson City\", \"growth_from_2000_to_2013\": \"6.7%\", \"latitude\": 38.57670170000001, \"longitude\": -92.1735164, \"population\": \"43330\", \"rank\": \"847\", \"state\": \"Missouri\"}, {\"city\": \"Concord\", \"growth_from_2000_to_2013\": \"4.1%\", \"latitude\": 43.2081366, \"longitude\": -71.5375718, \"population\": \"42419\", \"rank\": \"869\", \"state\": \"New Hampshire\"}, {\"city\": \"Annapolis\", \"growth_from_2000_to_2013\": \"7.6%\", \"latitude\": 38.9784453, \"longitude\": -76.4921829, \"population\": \"38722\", \"rank\": \"954\", \"state\": \"Maryland\"}, {\"city\": \"Dover\", \"growth_from_2000_to_2013\": \"16.0%\", \"latitude\": 39.158168, \"longitude\": -75.5243682, \"population\": \"37366\", \"rank\": \"987\", \"state\": \"Delaware\"}]"
     ]
    }
   ],
   "source": [
    "cat capital_cities.json"
   ]
  },
  {
   "cell_type": "markdown",
   "metadata": {},
   "source": [
    "#### 36. Write code that saves information about the biggest city in each state a JSON file.\n",
    "* Read the `us-cities.json` file from the class assignments\n",
    "* Create a new json file, `biggest-cities.json` and write out only the state's biggest city into it.\n",
    "* **Hint**: you can use the fact that the the cities in `us-cities.json` are sorted by population. Therefore, the first city that you encounter from a given state is the biggest city for that state."
   ]
  },
  {
   "cell_type": "markdown",
   "metadata": {},
   "source": [
    "### Extra credit (+10 points)\n",
    "\n",
    "#### 37. Write the code that prints US state capitals that are also the most populous cities in their respective states.\n"
   ]
  }
 ],
 "metadata": {
  "kernelspec": {
   "display_name": "Python 3",
   "language": "python",
   "name": "python3"
  },
  "language_info": {
   "codemirror_mode": {
    "name": "ipython",
    "version": 3
   },
   "file_extension": ".py",
   "mimetype": "text/x-python",
   "name": "python",
   "nbconvert_exporter": "python",
   "pygments_lexer": "ipython3",
   "version": "3.7.3"
  }
 },
 "nbformat": 4,
 "nbformat_minor": 2
}
