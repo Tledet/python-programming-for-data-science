{
 "cells": [
  {
   "cell_type": "markdown",
   "metadata": {},
   "source": [
    "# CityLines\n",
    "\n",
    "## Download the dataset\n",
    "\n",
    "Download the CSV `kaggle.com/citylines/city-lines` into a subfolder called `citylines` and unzip them."
   ]
  },
  {
   "cell_type": "code",
   "execution_count": 1,
   "metadata": {},
   "outputs": [
    {
     "name": "stdout",
     "output_type": "stream",
     "text": [
      "cities.csv  station_lines.csv  systems.csv      tracks.csv\r\n",
      "lines.csv   stations.csv       track_lines.csv\r\n"
     ]
    }
   ],
   "source": [
    "ls citylines"
   ]
  },
  {
   "cell_type": "markdown",
   "metadata": {},
   "source": [
    "# Reading CSV files "
   ]
  },
  {
   "cell_type": "markdown",
   "metadata": {},
   "source": [
    "## Using the standard libary module csv"
   ]
  },
  {
   "cell_type": "code",
   "execution_count": 2,
   "metadata": {},
   "outputs": [],
   "source": [
    "import csv"
   ]
  },
  {
   "cell_type": "code",
   "execution_count": 3,
   "metadata": {},
   "outputs": [],
   "source": [
    "with open('citylines/cities.csv') as f:\n",
    "    reader = csv.DictReader(f)\n",
    "    cities = [line for line in reader]"
   ]
  },
  {
   "cell_type": "code",
   "execution_count": 4,
   "metadata": {},
   "outputs": [
    {
     "name": "stdout",
     "output_type": "stream",
     "text": [
      "334\n"
     ]
    }
   ],
   "source": [
    "print(len(cities))"
   ]
  },
  {
   "cell_type": "markdown",
   "metadata": {},
   "source": [
    "## Using pandas"
   ]
  },
  {
   "cell_type": "code",
   "execution_count": 5,
   "metadata": {},
   "outputs": [],
   "source": [
    "import pandas as pd\n",
    "systems = pd.read_csv('citylines/systems.csv', index_col='id')\n",
    "cities = pd.read_csv('citylines/cities.csv', index_col=\"id\")\n",
    "track_lines = pd.read_csv('citylines/track_lines.csv', index_col='id')\n",
    "stations = pd.read_csv('citylines/stations.csv', index_col='id')\n",
    "station_lines = pd.read_csv('citylines/station_lines.csv', index_col='id')\n",
    "lines = pd.read_csv('citylines/lines.csv', index_col='id')\n",
    "tracks = pd.read_csv('citylines/tracks.csv', index_col='id')"
   ]
  },
  {
   "cell_type": "code",
   "execution_count": 6,
   "metadata": {},
   "outputs": [
    {
     "data": {
      "text/html": [
       "<div>\n",
       "<style scoped>\n",
       "    .dataframe tbody tr th:only-of-type {\n",
       "        vertical-align: middle;\n",
       "    }\n",
       "\n",
       "    .dataframe tbody tr th {\n",
       "        vertical-align: top;\n",
       "    }\n",
       "\n",
       "    .dataframe thead th {\n",
       "        text-align: right;\n",
       "    }\n",
       "</style>\n",
       "<table border=\"1\" class=\"dataframe\">\n",
       "  <thead>\n",
       "    <tr style=\"text-align: right;\">\n",
       "      <th></th>\n",
       "      <th>name</th>\n",
       "      <th>coords</th>\n",
       "      <th>start_year</th>\n",
       "      <th>url_name</th>\n",
       "      <th>country</th>\n",
       "      <th>country_state</th>\n",
       "    </tr>\n",
       "    <tr>\n",
       "      <th>id</th>\n",
       "      <th></th>\n",
       "      <th></th>\n",
       "      <th></th>\n",
       "      <th></th>\n",
       "      <th></th>\n",
       "      <th></th>\n",
       "    </tr>\n",
       "  </thead>\n",
       "  <tbody>\n",
       "    <tr>\n",
       "      <th>5</th>\n",
       "      <td>Aberdeen</td>\n",
       "      <td>POINT(-2.15 57.15)</td>\n",
       "      <td>2017.0</td>\n",
       "      <td>aberdeen</td>\n",
       "      <td>Scotland</td>\n",
       "      <td>NaN</td>\n",
       "    </tr>\n",
       "    <tr>\n",
       "      <th>6</th>\n",
       "      <td>Adelaide</td>\n",
       "      <td>POINT(138.6 -34.91666667)</td>\n",
       "      <td>2017.0</td>\n",
       "      <td>adelaide</td>\n",
       "      <td>Australia</td>\n",
       "      <td>NaN</td>\n",
       "    </tr>\n",
       "    <tr>\n",
       "      <th>7</th>\n",
       "      <td>Algiers</td>\n",
       "      <td>POINT(3 36.83333333)</td>\n",
       "      <td>2017.0</td>\n",
       "      <td>algiers</td>\n",
       "      <td>Algeria</td>\n",
       "      <td>NaN</td>\n",
       "    </tr>\n",
       "    <tr>\n",
       "      <th>9</th>\n",
       "      <td>Ankara</td>\n",
       "      <td>POINT(32.91666667 39.91666667)</td>\n",
       "      <td>2017.0</td>\n",
       "      <td>ankara</td>\n",
       "      <td>Turkey</td>\n",
       "      <td>NaN</td>\n",
       "    </tr>\n",
       "    <tr>\n",
       "      <th>16</th>\n",
       "      <td>Belém</td>\n",
       "      <td>POINT(-48.48333333 -1.466666667)</td>\n",
       "      <td>2017.0</td>\n",
       "      <td>belem</td>\n",
       "      <td>Brazil</td>\n",
       "      <td>NaN</td>\n",
       "    </tr>\n",
       "    <tr>\n",
       "      <th>...</th>\n",
       "      <td>...</td>\n",
       "      <td>...</td>\n",
       "      <td>...</td>\n",
       "      <td>...</td>\n",
       "      <td>...</td>\n",
       "      <td>...</td>\n",
       "    </tr>\n",
       "    <tr>\n",
       "      <th>265</th>\n",
       "      <td>Nantes</td>\n",
       "      <td>POINT(-1.553889 47.217222)</td>\n",
       "      <td>1877.0</td>\n",
       "      <td>nantes</td>\n",
       "      <td>France</td>\n",
       "      <td>NaN</td>\n",
       "    </tr>\n",
       "    <tr>\n",
       "      <th>110</th>\n",
       "      <td>Stockholm</td>\n",
       "      <td>POINT(18.05 59.28333333)</td>\n",
       "      <td>1919.0</td>\n",
       "      <td>stockholm</td>\n",
       "      <td>Sweden</td>\n",
       "      <td>NaN</td>\n",
       "    </tr>\n",
       "    <tr>\n",
       "      <th>266</th>\n",
       "      <td>Rennes</td>\n",
       "      <td>POINT(-1.680833 48.114167)</td>\n",
       "      <td>1897.0</td>\n",
       "      <td>rennes</td>\n",
       "      <td>France</td>\n",
       "      <td>NaN</td>\n",
       "    </tr>\n",
       "    <tr>\n",
       "      <th>15</th>\n",
       "      <td>Beijing</td>\n",
       "      <td>POINT(116.4166667 39.91666667)</td>\n",
       "      <td>1965.0</td>\n",
       "      <td>beijing</td>\n",
       "      <td>China</td>\n",
       "      <td>NaN</td>\n",
       "    </tr>\n",
       "    <tr>\n",
       "      <th>69</th>\n",
       "      <td>London</td>\n",
       "      <td>POINT(-0.08333333333 51.53333333)</td>\n",
       "      <td>1833.0</td>\n",
       "      <td>london</td>\n",
       "      <td>England</td>\n",
       "      <td>NaN</td>\n",
       "    </tr>\n",
       "  </tbody>\n",
       "</table>\n",
       "<p>334 rows × 6 columns</p>\n",
       "</div>"
      ],
      "text/plain": [
       "          name                             coords  start_year   url_name  \\\n",
       "id                                                                         \n",
       "5     Aberdeen                 POINT(-2.15 57.15)      2017.0   aberdeen   \n",
       "6     Adelaide          POINT(138.6 -34.91666667)      2017.0   adelaide   \n",
       "7      Algiers               POINT(3 36.83333333)      2017.0    algiers   \n",
       "9       Ankara     POINT(32.91666667 39.91666667)      2017.0     ankara   \n",
       "16       Belém   POINT(-48.48333333 -1.466666667)      2017.0      belem   \n",
       "..         ...                                ...         ...        ...   \n",
       "265     Nantes         POINT(-1.553889 47.217222)      1877.0     nantes   \n",
       "110  Stockholm           POINT(18.05 59.28333333)      1919.0  stockholm   \n",
       "266     Rennes         POINT(-1.680833 48.114167)      1897.0     rennes   \n",
       "15     Beijing     POINT(116.4166667 39.91666667)      1965.0    beijing   \n",
       "69      London  POINT(-0.08333333333 51.53333333)      1833.0     london   \n",
       "\n",
       "       country country_state  \n",
       "id                            \n",
       "5     Scotland           NaN  \n",
       "6    Australia           NaN  \n",
       "7      Algeria           NaN  \n",
       "9       Turkey           NaN  \n",
       "16      Brazil           NaN  \n",
       "..         ...           ...  \n",
       "265     France           NaN  \n",
       "110     Sweden           NaN  \n",
       "266     France           NaN  \n",
       "15       China           NaN  \n",
       "69     England           NaN  \n",
       "\n",
       "[334 rows x 6 columns]"
      ]
     },
     "execution_count": 6,
     "metadata": {},
     "output_type": "execute_result"
    }
   ],
   "source": [
    "cities"
   ]
  },
  {
   "cell_type": "code",
   "execution_count": 7,
   "metadata": {},
   "outputs": [
    {
     "data": {
      "text/plain": [
       "'Belém'"
      ]
     },
     "execution_count": 7,
     "metadata": {},
     "output_type": "execute_result"
    }
   ],
   "source": [
    "# use pandas data frame\n",
    "cities['name'][16]"
   ]
  },
  {
   "cell_type": "markdown",
   "metadata": {},
   "source": [
    "## Parsing coordinate strings"
   ]
  },
  {
   "cell_type": "code",
   "execution_count": 8,
   "metadata": {},
   "outputs": [
    {
     "data": {
      "text/plain": [
       "'LINESTRING(-58.4565034467506 -34.5622493173683,-58.4577927653747 -34.5607441036916,-58.4591937797194 -34.5591074989372,-58.4607837178131 -34.5573661677451,-58.4616310994955 -34.5564367568353,-58.4624199130135 -34.5556111854062)'"
      ]
     },
     "execution_count": 8,
     "metadata": {},
     "output_type": "execute_result"
    }
   ],
   "source": [
    "g = tracks['geometry'][16]\n",
    "g"
   ]
  },
  {
   "cell_type": "code",
   "execution_count": 9,
   "metadata": {},
   "outputs": [
    {
     "data": {
      "text/plain": [
       "(10, 226)"
      ]
     },
     "execution_count": 9,
     "metadata": {},
     "output_type": "execute_result"
    }
   ],
   "source": [
    "start, end = g.find('('), g.find(')')\n",
    "start, end"
   ]
  },
  {
   "cell_type": "code",
   "execution_count": 10,
   "metadata": {},
   "outputs": [
    {
     "data": {
      "text/plain": [
       "'-58.4565034467506 -34.5622493173683,-58.4577927653747 -34.5607441036916,-58.4591937797194 -34.5591074989372,-58.4607837178131 -34.5573661677451,-58.4616310994955 -34.5564367568353,-58.4624199130135 -34.5556111854062'"
      ]
     },
     "execution_count": 10,
     "metadata": {},
     "output_type": "execute_result"
    }
   ],
   "source": [
    "g[start+1:end]"
   ]
  },
  {
   "cell_type": "code",
   "execution_count": 11,
   "metadata": {},
   "outputs": [
    {
     "data": {
      "text/plain": [
       "['-58.4565034467506 -34.5622493173683',\n",
       " '-58.4577927653747 -34.5607441036916',\n",
       " '-58.4591937797194 -34.5591074989372',\n",
       " '-58.4607837178131 -34.5573661677451',\n",
       " '-58.4616310994955 -34.5564367568353',\n",
       " '-58.4624199130135 -34.5556111854062']"
      ]
     },
     "execution_count": 11,
     "metadata": {},
     "output_type": "execute_result"
    }
   ],
   "source": [
    "g[start+1:end].split(',')"
   ]
  },
  {
   "cell_type": "code",
   "execution_count": 12,
   "metadata": {},
   "outputs": [
    {
     "data": {
      "text/plain": [
       "array([[-58.45650345, -34.56224932],\n",
       "       [-58.45779277, -34.5607441 ],\n",
       "       [-58.45919378, -34.5591075 ],\n",
       "       [-58.46078372, -34.55736617],\n",
       "       [-58.4616311 , -34.55643676],\n",
       "       [-58.46241991, -34.55561119]])"
      ]
     },
     "execution_count": 12,
     "metadata": {},
     "output_type": "execute_result"
    }
   ],
   "source": [
    "import numpy as np\n",
    "points = [[float(f) for f in pair.split(' ')]  for pair in g[start+1:end].split(',')]\n",
    "np.array(points)"
   ]
  },
  {
   "cell_type": "markdown",
   "metadata": {},
   "source": [
    "### organize parsers as functions"
   ]
  },
  {
   "cell_type": "code",
   "execution_count": 13,
   "metadata": {},
   "outputs": [],
   "source": [
    "def parse_linestring(geometry):\n",
    "    \"\"\"\n",
    "    :param geometry: a string in the format \"LINESTRING(x1 y1, x2 y2, ..., xn yn)\"\n",
    "    return numpy array of shape (n, 2) with coordinates\n",
    "    \"\"\"\n",
    "    start = geometry.find('(')\n",
    "    end = geometry.find(')')\n",
    "    substring = geometry[start+1:end]\n",
    "    return np.array(\n",
    "        [[float(f) for f in pair.split(' ')] for pair in substring.split(',')])\n",
    "    "
   ]
  },
  {
   "cell_type": "code",
   "execution_count": 14,
   "metadata": {},
   "outputs": [
    {
     "data": {
      "text/plain": [
       "array([[16.4151057, 48.1907238],\n",
       "       [16.4156455, 48.190389 ],\n",
       "       [16.4170845, 48.1895171]])"
      ]
     },
     "execution_count": 14,
     "metadata": {},
     "output_type": "execute_result"
    }
   ],
   "source": [
    "parse_linestring(tracks['geometry'][2563])"
   ]
  },
  {
   "cell_type": "code",
   "execution_count": 15,
   "metadata": {},
   "outputs": [],
   "source": [
    "def parse_point(coords):\n",
    "    \"\"\"\n",
    "    :param coords: a string in the form \"POINT(x, y)\"\n",
    "    :return: [x, y] as floats\n",
    "    \"\"\"\n",
    "    start, end = coords.find('('), coords.find(')')\n",
    "    return [float(p) for p in coords[start+1:end].split(' ')]"
   ]
  },
  {
   "cell_type": "code",
   "execution_count": 16,
   "metadata": {},
   "outputs": [
    {
     "data": {
      "text/plain": [
       "('Belém', [-48.48333333, -1.466666667])"
      ]
     },
     "execution_count": 16,
     "metadata": {},
     "output_type": "execute_result"
    }
   ],
   "source": [
    "cities['name'][16], parse_point(cities['coords'][16])"
   ]
  },
  {
   "cell_type": "markdown",
   "metadata": {},
   "source": [
    "### plot all cities"
   ]
  },
  {
   "cell_type": "code",
   "execution_count": 17,
   "metadata": {},
   "outputs": [],
   "source": [
    "%matplotlib inline\n",
    "from matplotlib import pyplot as plt"
   ]
  },
  {
   "cell_type": "code",
   "execution_count": 18,
   "metadata": {},
   "outputs": [],
   "source": [
    "city_points = np.array([parse_point(p) for p in cities['coords']])"
   ]
  },
  {
   "cell_type": "code",
   "execution_count": 19,
   "metadata": {},
   "outputs": [
    {
     "data": {
      "image/png": "[encoded data removed]",
      "text/plain": [
       "<Figure size 432x288 with 1 Axes>"
      ]
     },
     "metadata": {
      "needs_background": "light"
     },
     "output_type": "display_data"
    }
   ],
   "source": [
    "plt.scatter(city_points[:,0], city_points[:,1], s=16, alpha=0.2);\n",
    "plt.axis(False);"
   ]
  },
  {
   "cell_type": "markdown",
   "metadata": {},
   "source": [
    "### plot the transit system of a given city"
   ]
  },
  {
   "cell_type": "code",
   "execution_count": 20,
   "metadata": {},
   "outputs": [
    {
     "data": {
      "text/html": [
       "<div>\n",
       "<style scoped>\n",
       "    .dataframe tbody tr th:only-of-type {\n",
       "        vertical-align: middle;\n",
       "    }\n",
       "\n",
       "    .dataframe tbody tr th {\n",
       "        vertical-align: top;\n",
       "    }\n",
       "\n",
       "    .dataframe thead th {\n",
       "        text-align: right;\n",
       "    }\n",
       "</style>\n",
       "<table border=\"1\" class=\"dataframe\">\n",
       "  <thead>\n",
       "    <tr style=\"text-align: right;\">\n",
       "      <th></th>\n",
       "      <th>name</th>\n",
       "      <th>coords</th>\n",
       "      <th>start_year</th>\n",
       "      <th>url_name</th>\n",
       "      <th>country</th>\n",
       "      <th>country_state</th>\n",
       "    </tr>\n",
       "    <tr>\n",
       "      <th>id</th>\n",
       "      <th></th>\n",
       "      <th></th>\n",
       "      <th></th>\n",
       "      <th></th>\n",
       "      <th></th>\n",
       "      <th></th>\n",
       "    </tr>\n",
       "  </thead>\n",
       "  <tbody>\n",
       "    <tr>\n",
       "      <th>5</th>\n",
       "      <td>Aberdeen</td>\n",
       "      <td>POINT(-2.15 57.15)</td>\n",
       "      <td>2017.0</td>\n",
       "      <td>aberdeen</td>\n",
       "      <td>Scotland</td>\n",
       "      <td>NaN</td>\n",
       "    </tr>\n",
       "    <tr>\n",
       "      <th>6</th>\n",
       "      <td>Adelaide</td>\n",
       "      <td>POINT(138.6 -34.91666667)</td>\n",
       "      <td>2017.0</td>\n",
       "      <td>adelaide</td>\n",
       "      <td>Australia</td>\n",
       "      <td>NaN</td>\n",
       "    </tr>\n",
       "    <tr>\n",
       "      <th>7</th>\n",
       "      <td>Algiers</td>\n",
       "      <td>POINT(3 36.83333333)</td>\n",
       "      <td>2017.0</td>\n",
       "      <td>algiers</td>\n",
       "      <td>Algeria</td>\n",
       "      <td>NaN</td>\n",
       "    </tr>\n",
       "    <tr>\n",
       "      <th>9</th>\n",
       "      <td>Ankara</td>\n",
       "      <td>POINT(32.91666667 39.91666667)</td>\n",
       "      <td>2017.0</td>\n",
       "      <td>ankara</td>\n",
       "      <td>Turkey</td>\n",
       "      <td>NaN</td>\n",
       "    </tr>\n",
       "    <tr>\n",
       "      <th>16</th>\n",
       "      <td>Belém</td>\n",
       "      <td>POINT(-48.48333333 -1.466666667)</td>\n",
       "      <td>2017.0</td>\n",
       "      <td>belem</td>\n",
       "      <td>Brazil</td>\n",
       "      <td>NaN</td>\n",
       "    </tr>\n",
       "    <tr>\n",
       "      <th>...</th>\n",
       "      <td>...</td>\n",
       "      <td>...</td>\n",
       "      <td>...</td>\n",
       "      <td>...</td>\n",
       "      <td>...</td>\n",
       "      <td>...</td>\n",
       "    </tr>\n",
       "    <tr>\n",
       "      <th>265</th>\n",
       "      <td>Nantes</td>\n",
       "      <td>POINT(-1.553889 47.217222)</td>\n",
       "      <td>1877.0</td>\n",
       "      <td>nantes</td>\n",
       "      <td>France</td>\n",
       "      <td>NaN</td>\n",
       "    </tr>\n",
       "    <tr>\n",
       "      <th>110</th>\n",
       "      <td>Stockholm</td>\n",
       "      <td>POINT(18.05 59.28333333)</td>\n",
       "      <td>1919.0</td>\n",
       "      <td>stockholm</td>\n",
       "      <td>Sweden</td>\n",
       "      <td>NaN</td>\n",
       "    </tr>\n",
       "    <tr>\n",
       "      <th>266</th>\n",
       "      <td>Rennes</td>\n",
       "      <td>POINT(-1.680833 48.114167)</td>\n",
       "      <td>1897.0</td>\n",
       "      <td>rennes</td>\n",
       "      <td>France</td>\n",
       "      <td>NaN</td>\n",
       "    </tr>\n",
       "    <tr>\n",
       "      <th>15</th>\n",
       "      <td>Beijing</td>\n",
       "      <td>POINT(116.4166667 39.91666667)</td>\n",
       "      <td>1965.0</td>\n",
       "      <td>beijing</td>\n",
       "      <td>China</td>\n",
       "      <td>NaN</td>\n",
       "    </tr>\n",
       "    <tr>\n",
       "      <th>69</th>\n",
       "      <td>London</td>\n",
       "      <td>POINT(-0.08333333333 51.53333333)</td>\n",
       "      <td>1833.0</td>\n",
       "      <td>london</td>\n",
       "      <td>England</td>\n",
       "      <td>NaN</td>\n",
       "    </tr>\n",
       "  </tbody>\n",
       "</table>\n",
       "<p>334 rows × 6 columns</p>\n",
       "</div>"
      ],
      "text/plain": [
       "          name                             coords  start_year   url_name  \\\n",
       "id                                                                         \n",
       "5     Aberdeen                 POINT(-2.15 57.15)      2017.0   aberdeen   \n",
       "6     Adelaide          POINT(138.6 -34.91666667)      2017.0   adelaide   \n",
       "7      Algiers               POINT(3 36.83333333)      2017.0    algiers   \n",
       "9       Ankara     POINT(32.91666667 39.91666667)      2017.0     ankara   \n",
       "16       Belém   POINT(-48.48333333 -1.466666667)      2017.0      belem   \n",
       "..         ...                                ...         ...        ...   \n",
       "265     Nantes         POINT(-1.553889 47.217222)      1877.0     nantes   \n",
       "110  Stockholm           POINT(18.05 59.28333333)      1919.0  stockholm   \n",
       "266     Rennes         POINT(-1.680833 48.114167)      1897.0     rennes   \n",
       "15     Beijing     POINT(116.4166667 39.91666667)      1965.0    beijing   \n",
       "69      London  POINT(-0.08333333333 51.53333333)      1833.0     london   \n",
       "\n",
       "       country country_state  \n",
       "id                            \n",
       "5     Scotland           NaN  \n",
       "6    Australia           NaN  \n",
       "7      Algeria           NaN  \n",
       "9       Turkey           NaN  \n",
       "16      Brazil           NaN  \n",
       "..         ...           ...  \n",
       "265     France           NaN  \n",
       "110     Sweden           NaN  \n",
       "266     France           NaN  \n",
       "15       China           NaN  \n",
       "69     England           NaN  \n",
       "\n",
       "[334 rows x 6 columns]"
      ]
     },
     "execution_count": 20,
     "metadata": {},
     "output_type": "execute_result"
    }
   ],
   "source": [
    "cities"
   ]
  },
  {
   "cell_type": "code",
   "execution_count": 21,
   "metadata": {},
   "outputs": [
    {
     "data": {
      "image/png": "[encoded data removed]",
      "text/plain": [
       "<Figure size 432x288 with 1 Axes>"
      ]
     },
     "metadata": {
      "needs_background": "light"
     },
     "output_type": "display_data"
    }
   ],
   "source": [
    "code = 110\n",
    "name = cities['name'][code]\n",
    "for line in tracks[tracks['city_id'] == code]['geometry']:\n",
    "    xy = parse_linestring(line)\n",
    "    plt.plot(xy[:,0], xy[:, 1])\n",
    "plt.title(f'{name} Transit System')\n",
    "plt.axis(False);"
   ]
  }
 ],
 "metadata": {
  "kernelspec": {
   "display_name": "Python 3",
   "language": "python",
   "name": "python3"
  },
  "language_info": {
   "codemirror_mode": {
    "name": "ipython",
    "version": 3
   },
   "file_extension": ".py",
   "mimetype": "text/x-python",
   "name": "python",
   "nbconvert_exporter": "python",
   "pygments_lexer": "ipython3",
   "version": "3.7.3"
  }
 },
 "nbformat": 4,
 "nbformat_minor": 2
}
