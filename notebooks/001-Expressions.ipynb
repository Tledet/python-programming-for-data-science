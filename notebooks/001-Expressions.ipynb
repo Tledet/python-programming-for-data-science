{
 "cells": [
  {
   "cell_type": "markdown",
   "metadata": {},
   "source": [
    "# Lecture 2\n",
    "## Expressions, variables, and assignments\n",
    "### Objectives\n",
    "\n",
    "* Use Jupyter interactive mode to write code snippets and produce results immediately\n",
    "* Write and evaluate Python expressions\n",
    "* Assign values to variables\n",
    "* Arithmetic operators\n",
    "* Operator precedence\n",
    "* Simple data types\n",
    "  - `int`\n",
    "  - `float`  \n",
    "  - `str`\n",
    "* Dynamic typing, the `type` function, conversions.\n",
    "* Using `print` and `input`\n",
    "* Strings: single quotes, multi-line. Raw strings. f-strings\n",
    "* String indexing and methods of string: `split`, `join`.\n",
    "* Comparison operators, boolean data type\n",
    "* Functions `min` and `max`\n",
    "* Tuples\n",
    "* `if` statements\n",
    "\n",
    "### See also:\n",
    "  1. Chapter 2 in Deitel \"Python for Programmers\"\n",
    "  1. [An Informal Introduction to Python](https://docs.python.org/3.8/tutorial/introduction.html)\n",
    "  1. Chapters 1 and 2 in \"Think Python 2\" http://greenteapress.com/thinkpython2/thinkpython2.pdf\n",
    "  1. Driscol's Python 101 Chapter 2: https://python101.pythonlibrary.org/chapter2_strings.html\n",
    "\n"
   ]
  },
  {
   "cell_type": "markdown",
   "metadata": {},
   "source": [
    "## Numeric values and variables"
   ]
  },
  {
   "cell_type": "code",
   "execution_count": null,
   "metadata": {},
   "outputs": [],
   "source": [
    "type(1/10)"
   ]
  },
  {
   "cell_type": "code",
   "execution_count": null,
   "metadata": {},
   "outputs": [],
   "source": [
    "1/10\n",
    "\n",
    "1//10\n",
    "\n",
    "1.0//7"
   ]
  },
  {
   "cell_type": "code",
   "execution_count": null,
   "metadata": {},
   "outputs": [],
   "source": [
    "a = .1\n",
    "a += .1\n",
    "a += .1\n",
    "a -= .3\n",
    "print(a)"
   ]
  },
  {
   "cell_type": "code",
   "execution_count": null,
   "metadata": {},
   "outputs": [],
   "source": [
    "1_000_000"
   ]
  },
  {
   "cell_type": "code",
   "execution_count": null,
   "metadata": {},
   "outputs": [],
   "source": [
    "abs(1j + 2)"
   ]
  },
  {
   "cell_type": "markdown",
   "metadata": {},
   "source": [
    "## Tuples"
   ]
  },
  {
   "cell_type": "code",
   "execution_count": null,
   "metadata": {},
   "outputs": [],
   "source": [
    "a, b = 1, 2"
   ]
  },
  {
   "cell_type": "code",
   "execution_count": null,
   "metadata": {},
   "outputs": [],
   "source": [
    "c = 1, 2, 3"
   ]
  },
  {
   "cell_type": "code",
   "execution_count": null,
   "metadata": {},
   "outputs": [],
   "source": [
    "a, b, *d = c"
   ]
  },
  {
   "cell_type": "code",
   "execution_count": null,
   "metadata": {},
   "outputs": [],
   "source": [
    "type(d)"
   ]
  },
  {
   "cell_type": "markdown",
   "metadata": {},
   "source": [
    "## Strings"
   ]
  },
  {
   "cell_type": "code",
   "execution_count": null,
   "metadata": {},
   "outputs": [],
   "source": [
    "### Multiline strings"
   ]
  },
  {
   "cell_type": "code",
   "execution_count": null,
   "metadata": {},
   "outputs": [],
   "source": [
    "### Indexing and slicing"
   ]
  },
  {
   "cell_type": "code",
   "execution_count": null,
   "metadata": {},
   "outputs": [],
   "source": [
    "### formatting and f-strings"
   ]
  },
  {
   "cell_type": "markdown",
   "metadata": {},
   "source": [
    "## Input"
   ]
  },
  {
   "cell_type": "code",
   "execution_count": null,
   "metadata": {},
   "outputs": [],
   "source": [
    "###"
   ]
  },
  {
   "cell_type": "markdown",
   "metadata": {},
   "source": [
    "# Homework"
   ]
  },
  {
   "cell_type": "markdown",
   "metadata": {},
   "source": [
    "**Problem 1:** Assign the values of 20, 37.0, and 12.5 to variables `a`, `b`, and `c` and evaluate the expression for their average:\n",
    "$\\frac{a + b + c}{3}$"
   ]
  },
  {
   "cell_type": "code",
   "execution_count": null,
   "metadata": {},
   "outputs": [],
   "source": []
  },
  {
   "cell_type": "markdown",
   "metadata": {},
   "source": [
    "**Problem 2:** Compute their *geometric* mean $\\sqrt[3]{a\\cdot b \\cdot c}$."
   ]
  },
  {
   "cell_type": "code",
   "execution_count": null,
   "metadata": {},
   "outputs": [],
   "source": []
  },
  {
   "cell_type": "markdown",
   "metadata": {},
   "source": [
    "**Problem 3:** Now imagine $a$,$b$, and $c$ are the coefficients in the quadratic equation $a x^2 + b x + c = 0$. Calculate its two roots $x_1 = \\frac{-b - \\sqrt{d}}{2 a}$ and $x_2 = \\frac{-b + \\sqrt{d}}{2 a}$ where $d = b^2 - 4ac$. Print the root values."
   ]
  },
  {
   "cell_type": "code",
   "execution_count": null,
   "metadata": {},
   "outputs": [],
   "source": []
  },
  {
   "cell_type": "markdown",
   "metadata": {},
   "source": [
    "**Problem 4**: Ask the user to enter three numbers. Then print the minimum, average, and maximum of the three numbers."
   ]
  },
  {
   "cell_type": "code",
   "execution_count": null,
   "metadata": {},
   "outputs": [],
   "source": []
  },
  {
   "cell_type": "markdown",
   "metadata": {},
   "source": [
    "**Problem 5**:\n",
    "The following program computes the area of a circle with radius $r=5$. Modify it to compute the surface area of a cylinder with the same radius and height $h = 10.0$"
   ]
  },
  {
   "cell_type": "code",
   "execution_count": null,
   "metadata": {},
   "outputs": [],
   "source": [
    "import math\n",
    "\n",
    "r = 5.0\n",
    "h = 10.0\n",
    "\n",
    "S = math.pi * r * r\n",
    "\n",
    "print(f'Area of the circle is {S}')\n",
    "\n",
    "A = ...\n",
    "\n",
    "print(f'Area of the cylinder is {A}')"
   ]
  },
  {
   "cell_type": "markdown",
   "metadata": {},
   "source": [
    "**Problem 6**: The following code prints a random number between 0 and 100. Extend the program to print ten such random numbers and print their mean $\\mu$ and their sample variance, which is computed as $ \\frac{\\sum_{i=1}^n (x_i-\\mu)^2}{n-1}$ where $n=10$ in this case."
   ]
  },
  {
   "cell_type": "code",
   "execution_count": null,
   "metadata": {},
   "outputs": [],
   "source": [
    "import random\n",
    "x1 = random.randint(0, 100)\n",
    "print(x1)"
   ]
  },
  {
   "cell_type": "markdown",
   "metadata": {},
   "source": [
    "**Problem 7:** \n",
    "In the following code, the variable `abc` contains the alphabet. Extend the code to print the $n^{th}$ letter of the alphabet:"
   ]
  },
  {
   "cell_type": "code",
   "execution_count": null,
   "metadata": {},
   "outputs": [],
   "source": [
    "abc = 'abcdefghijklmnopqrstuvwxyz'\n",
    "n = 4\n",
    "print(...)"
   ]
  },
  {
   "cell_type": "markdown",
   "metadata": {},
   "source": [
    "**Problem 8:** Using the `abc` string already defined, print the first half of the alphabet."
   ]
  },
  {
   "cell_type": "code",
   "execution_count": null,
   "metadata": {},
   "outputs": [],
   "source": []
  },
  {
   "cell_type": "markdown",
   "metadata": {},
   "source": [
    "**Problem 9:** Using the `abc` string, print all the odd letters and the all the even letters.\n"
   ]
  },
  {
   "cell_type": "code",
   "execution_count": null,
   "metadata": {},
   "outputs": [],
   "source": []
  },
  {
   "cell_type": "markdown",
   "metadata": {},
   "source": [
    "**Problem 10**: Write code to print a random letter of the alphabet"
   ]
  },
  {
   "cell_type": "code",
   "execution_count": null,
   "metadata": {},
   "outputs": [],
   "source": []
  },
  {
   "cell_type": "markdown",
   "metadata": {},
   "source": [
    "**Problem 11:** Given the variables `first_name` and `last_name` below, make the string `full_name` in the format `\"last_name, first_name\"`."
   ]
  },
  {
   "cell_type": "code",
   "execution_count": null,
   "metadata": {},
   "outputs": [],
   "source": [
    "first_name = \"Guido\"\n",
    "last_name = \"van Rossum\"\n",
    "full_name = ..."
   ]
  },
  {
   "cell_type": "markdown",
   "metadata": {},
   "source": [
    "**Problem 12:** \n",
    "Ask the user to enter a string and then print its first and last character."
   ]
  },
  {
   "cell_type": "code",
   "execution_count": null,
   "metadata": {},
   "outputs": [],
   "source": []
  },
  {
   "cell_type": "markdown",
   "metadata": {},
   "source": [
    "**Problem 13:** \n",
    "Ask the user to enter a string and then print its first five characters. What happens if the user enters a shorter string?"
   ]
  },
  {
   "cell_type": "code",
   "execution_count": null,
   "metadata": {},
   "outputs": [],
   "source": []
  },
  {
   "cell_type": "markdown",
   "metadata": {},
   "source": [
    "**Problem 14:** \n",
    "Ask the user to enter a string and then print its last five characters. What happens if the user enters a shorter string?"
   ]
  },
  {
   "cell_type": "code",
   "execution_count": null,
   "metadata": {},
   "outputs": [],
   "source": []
  },
  {
   "cell_type": "markdown",
   "metadata": {},
   "source": [
    "**Problem 15:** \n",
    "The following code assigns values to variables `a` and `b` as a tuple. Write code to swap the values `a` and `b`."
   ]
  },
  {
   "cell_type": "code",
   "execution_count": null,
   "metadata": {},
   "outputs": [],
   "source": [
    "a, b = 1, 2\n",
    "\n",
    "print(f\"a={a}, b={b}\")"
   ]
  },
  {
   "cell_type": "markdown",
   "metadata": {},
   "source": [
    "**Problem 16:**\n",
    "Imagine you are given the variables `name` and `occupation` that are created like this:\n",
    "\n",
    "```python\n",
    "name = \"Alice\"\n",
    "occupation = \"student\"\n",
    "```\n",
    "\n",
    "Write a python statement that uses `name` and `occupation` to print\n",
    "```\n",
    "Alice is a student.\n",
    "```"
   ]
  },
  {
   "cell_type": "code",
   "execution_count": null,
   "metadata": {},
   "outputs": [],
   "source": []
  },
  {
   "cell_type": "markdown",
   "metadata": {},
   "source": [
    "**Problem 17:**\n",
    "Given the tuple `a` filled with numbers, print its sum\n",
    "\n",
    "```python\n",
    "a = -0.084, 0.7726, 0.0731, -0.08, -0.2, 1.4953, -0.771, -1.683, -1.936, -0.897, 2.3821, -1.126\n",
    "```"
   ]
  },
  {
   "cell_type": "code",
   "execution_count": null,
   "metadata": {},
   "outputs": [],
   "source": []
  },
  {
   "cell_type": "markdown",
   "metadata": {},
   "source": [
    "**Problem 18:**\n",
    "Print the average value of `a`"
   ]
  },
  {
   "cell_type": "code",
   "execution_count": null,
   "metadata": {},
   "outputs": [],
   "source": []
  },
  {
   "cell_type": "markdown",
   "metadata": {},
   "source": [
    "**Problem 19**\n",
    "The following code produces a tuple of 16 random integers between 0 and 4 and assigns it to `r`. Print how many zeros it contains. **Hint:** use a method of tuple."
   ]
  },
  {
   "cell_type": "code",
   "execution_count": null,
   "metadata": {},
   "outputs": [],
   "source": [
    "import random\n",
    "r = tuple(random.randint(0, 4) for i in range(16))\n",
    "print(r)\n",
    "\n",
    "# add your code here\n",
    "count = ...\n",
    "print(f\"found {count} zeros\")"
   ]
  },
  {
   "cell_type": "markdown",
   "metadata": {},
   "source": [
    "**Problem 20**\n",
    "Given a tuple of integer numbers, print how many its values equal the minimum value. You can start with the code in problem 19."
   ]
  },
  {
   "cell_type": "code",
   "execution_count": null,
   "metadata": {},
   "outputs": [],
   "source": []
  }
 ],
 "metadata": {
  "kernelspec": {
   "display_name": "Python 3",
   "language": "python",
   "name": "python3"
  },
  "language_info": {
   "codemirror_mode": {
    "name": "ipython",
    "version": 3
   },
   "file_extension": ".py",
   "mimetype": "text/x-python",
   "name": "python",
   "nbconvert_exporter": "python",
   "pygments_lexer": "ipython3",
   "version": "3.7.5"
  }
 },
 "nbformat": 4,
 "nbformat_minor": 2
}
